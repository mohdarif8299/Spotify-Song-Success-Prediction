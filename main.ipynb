{
 "cells": [
  {
   "cell_type": "code",
   "execution_count": 463,
   "id": "fa2a9683",
   "metadata": {},
   "outputs": [],
   "source": [
    "import pandas as pd\n",
    "import seaborn as sns\n",
    "import matplotlib.pyplot as plt"
   ]
  },
  {
   "cell_type": "code",
   "execution_count": 464,
   "id": "d7805292",
   "metadata": {},
   "outputs": [],
   "source": [
    "tracks = pd.read_csv('tracks.csv')\n",
    "artists = pd.read_csv('artists.csv')\n",
    "pd.set_option('display.float_format', lambda x: f'{x:.2f}')"
   ]
  },
  {
   "cell_type": "code",
   "execution_count": 465,
   "id": "71f165db",
   "metadata": {},
   "outputs": [
    {
     "name": "stdout",
     "output_type": "stream",
     "text": [
      "<class 'pandas.core.frame.DataFrame'>\n",
      "RangeIndex: 586672 entries, 0 to 586671\n",
      "Data columns (total 20 columns):\n",
      " #   Column            Non-Null Count   Dtype  \n",
      "---  ------            --------------   -----  \n",
      " 0   id                586672 non-null  object \n",
      " 1   name              586601 non-null  object \n",
      " 2   popularity        586672 non-null  int64  \n",
      " 3   duration_ms       586672 non-null  int64  \n",
      " 4   explicit          586672 non-null  int64  \n",
      " 5   artists           586672 non-null  object \n",
      " 6   id_artists        586672 non-null  object \n",
      " 7   release_date      586672 non-null  object \n",
      " 8   danceability      586672 non-null  float64\n",
      " 9   energy            586672 non-null  float64\n",
      " 10  key               586672 non-null  int64  \n",
      " 11  loudness          586672 non-null  float64\n",
      " 12  mode              586672 non-null  int64  \n",
      " 13  speechiness       586672 non-null  float64\n",
      " 14  acousticness      586672 non-null  float64\n",
      " 15  instrumentalness  586672 non-null  float64\n",
      " 16  liveness          586672 non-null  float64\n",
      " 17  valence           586672 non-null  float64\n",
      " 18  tempo             586672 non-null  float64\n",
      " 19  time_signature    586672 non-null  int64  \n",
      "dtypes: float64(9), int64(6), object(5)\n",
      "memory usage: 89.5+ MB\n"
     ]
    },
    {
     "data": {
      "text/plain": [
       "id                   0\n",
       "name                71\n",
       "popularity           0\n",
       "duration_ms          0\n",
       "explicit             0\n",
       "artists              0\n",
       "id_artists           0\n",
       "release_date         0\n",
       "danceability         0\n",
       "energy               0\n",
       "key                  0\n",
       "loudness             0\n",
       "mode                 0\n",
       "speechiness          0\n",
       "acousticness         0\n",
       "instrumentalness     0\n",
       "liveness             0\n",
       "valence              0\n",
       "tempo                0\n",
       "time_signature       0\n",
       "dtype: int64"
      ]
     },
     "execution_count": 465,
     "metadata": {},
     "output_type": "execute_result"
    }
   ],
   "source": [
    "tracks.info()\n",
    "tracks.isna().sum()\n"
   ]
  },
  {
   "cell_type": "code",
   "execution_count": 466,
   "id": "a58c3866",
   "metadata": {},
   "outputs": [],
   "source": [
    "tracks = tracks.rename(columns={'name': 'track_name', 'popularity': 'track_popularity'})"
   ]
  },
  {
   "cell_type": "code",
   "execution_count": 467,
   "id": "0352bd8b",
   "metadata": {},
   "outputs": [
    {
     "name": "stdout",
     "output_type": "stream",
     "text": [
      "<class 'pandas.core.frame.DataFrame'>\n",
      "RangeIndex: 586672 entries, 0 to 586671\n",
      "Data columns (total 20 columns):\n",
      " #   Column            Non-Null Count   Dtype  \n",
      "---  ------            --------------   -----  \n",
      " 0   id                586672 non-null  object \n",
      " 1   track_name        586601 non-null  object \n",
      " 2   track_popularity  586672 non-null  int64  \n",
      " 3   duration_ms       586672 non-null  int64  \n",
      " 4   explicit          586672 non-null  int64  \n",
      " 5   artists           586672 non-null  object \n",
      " 6   id_artists        586672 non-null  object \n",
      " 7   release_date      586672 non-null  object \n",
      " 8   danceability      586672 non-null  float64\n",
      " 9   energy            586672 non-null  float64\n",
      " 10  key               586672 non-null  int64  \n",
      " 11  loudness          586672 non-null  float64\n",
      " 12  mode              586672 non-null  int64  \n",
      " 13  speechiness       586672 non-null  float64\n",
      " 14  acousticness      586672 non-null  float64\n",
      " 15  instrumentalness  586672 non-null  float64\n",
      " 16  liveness          586672 non-null  float64\n",
      " 17  valence           586672 non-null  float64\n",
      " 18  tempo             586672 non-null  float64\n",
      " 19  time_signature    586672 non-null  int64  \n",
      "dtypes: float64(9), int64(6), object(5)\n",
      "memory usage: 89.5+ MB\n"
     ]
    }
   ],
   "source": [
    "tracks.info()\n",
    "\n"
   ]
  },
  {
   "cell_type": "code",
   "execution_count": 468,
   "id": "2a7bb621",
   "metadata": {},
   "outputs": [
    {
     "data": {
      "text/plain": [
       "id                   0\n",
       "track_name          71\n",
       "track_popularity     0\n",
       "duration_ms          0\n",
       "explicit             0\n",
       "artists              0\n",
       "id_artists           0\n",
       "release_date         0\n",
       "danceability         0\n",
       "energy               0\n",
       "key                  0\n",
       "loudness             0\n",
       "mode                 0\n",
       "speechiness          0\n",
       "acousticness         0\n",
       "instrumentalness     0\n",
       "liveness             0\n",
       "valence              0\n",
       "tempo                0\n",
       "time_signature       0\n",
       "dtype: int64"
      ]
     },
     "execution_count": 468,
     "metadata": {},
     "output_type": "execute_result"
    }
   ],
   "source": [
    "tracks.isna().sum()"
   ]
  },
  {
   "cell_type": "code",
   "execution_count": 469,
   "id": "287357e1",
   "metadata": {},
   "outputs": [
    {
     "name": "stdout",
     "output_type": "stream",
     "text": [
      "<class 'pandas.core.frame.DataFrame'>\n",
      "RangeIndex: 1104349 entries, 0 to 1104348\n",
      "Data columns (total 5 columns):\n",
      " #   Column      Non-Null Count    Dtype  \n",
      "---  ------      --------------    -----  \n",
      " 0   id          1104349 non-null  object \n",
      " 1   followers   1104336 non-null  float64\n",
      " 2   genres      1104349 non-null  object \n",
      " 3   name        1104346 non-null  object \n",
      " 4   popularity  1104349 non-null  int64  \n",
      "dtypes: float64(1), int64(1), object(3)\n",
      "memory usage: 42.1+ MB\n"
     ]
    }
   ],
   "source": [
    "artists.info()"
   ]
  },
  {
   "cell_type": "code",
   "execution_count": 470,
   "id": "48df389a",
   "metadata": {},
   "outputs": [],
   "source": [
    "artists = artists.rename(columns={'id': 'id_artists','name': 'artists_name', 'popularity': 'artists_popularity'})"
   ]
  },
  {
   "cell_type": "code",
   "execution_count": 471,
   "id": "87a61693",
   "metadata": {},
   "outputs": [
    {
     "name": "stdout",
     "output_type": "stream",
     "text": [
      "<class 'pandas.core.frame.DataFrame'>\n",
      "RangeIndex: 1104349 entries, 0 to 1104348\n",
      "Data columns (total 5 columns):\n",
      " #   Column              Non-Null Count    Dtype  \n",
      "---  ------              --------------    -----  \n",
      " 0   id_artists          1104349 non-null  object \n",
      " 1   followers           1104336 non-null  float64\n",
      " 2   genres              1104349 non-null  object \n",
      " 3   artists_name        1104346 non-null  object \n",
      " 4   artists_popularity  1104349 non-null  int64  \n",
      "dtypes: float64(1), int64(1), object(3)\n",
      "memory usage: 42.1+ MB\n"
     ]
    }
   ],
   "source": [
    "artists.info()"
   ]
  },
  {
   "cell_type": "code",
   "execution_count": 472,
   "id": "134c0c71",
   "metadata": {},
   "outputs": [
    {
     "data": {
      "text/html": [
       "<div>\n",
       "<style scoped>\n",
       "    .dataframe tbody tr th:only-of-type {\n",
       "        vertical-align: middle;\n",
       "    }\n",
       "\n",
       "    .dataframe tbody tr th {\n",
       "        vertical-align: top;\n",
       "    }\n",
       "\n",
       "    .dataframe thead th {\n",
       "        text-align: right;\n",
       "    }\n",
       "</style>\n",
       "<table border=\"1\" class=\"dataframe\">\n",
       "  <thead>\n",
       "    <tr style=\"text-align: right;\">\n",
       "      <th></th>\n",
       "      <th>id_artists</th>\n",
       "      <th>followers</th>\n",
       "      <th>genres</th>\n",
       "      <th>artists_name</th>\n",
       "      <th>artists_popularity</th>\n",
       "    </tr>\n",
       "  </thead>\n",
       "  <tbody>\n",
       "    <tr>\n",
       "      <th>0</th>\n",
       "      <td>0DheY5irMjBUeLybbCUEZ2</td>\n",
       "      <td>0.00</td>\n",
       "      <td>[]</td>\n",
       "      <td>Armid &amp; Amir Zare Pashai feat. Sara Rouzbehani</td>\n",
       "      <td>0</td>\n",
       "    </tr>\n",
       "    <tr>\n",
       "      <th>1</th>\n",
       "      <td>0DlhY15l3wsrnlfGio2bjU</td>\n",
       "      <td>5.00</td>\n",
       "      <td>[]</td>\n",
       "      <td>ปูนา ภาวิณี</td>\n",
       "      <td>0</td>\n",
       "    </tr>\n",
       "    <tr>\n",
       "      <th>2</th>\n",
       "      <td>0DmRESX2JknGPQyO15yxg7</td>\n",
       "      <td>0.00</td>\n",
       "      <td>[]</td>\n",
       "      <td>Sadaa</td>\n",
       "      <td>0</td>\n",
       "    </tr>\n",
       "    <tr>\n",
       "      <th>3</th>\n",
       "      <td>0DmhnbHjm1qw6NCYPeZNgJ</td>\n",
       "      <td>0.00</td>\n",
       "      <td>[]</td>\n",
       "      <td>Tra'gruda</td>\n",
       "      <td>0</td>\n",
       "    </tr>\n",
       "    <tr>\n",
       "      <th>4</th>\n",
       "      <td>0Dn11fWM7vHQ3rinvWEl4E</td>\n",
       "      <td>2.00</td>\n",
       "      <td>[]</td>\n",
       "      <td>Ioannis Panoutsopoulos</td>\n",
       "      <td>0</td>\n",
       "    </tr>\n",
       "  </tbody>\n",
       "</table>\n",
       "</div>"
      ],
      "text/plain": [
       "               id_artists  followers genres  \\\n",
       "0  0DheY5irMjBUeLybbCUEZ2       0.00     []   \n",
       "1  0DlhY15l3wsrnlfGio2bjU       5.00     []   \n",
       "2  0DmRESX2JknGPQyO15yxg7       0.00     []   \n",
       "3  0DmhnbHjm1qw6NCYPeZNgJ       0.00     []   \n",
       "4  0Dn11fWM7vHQ3rinvWEl4E       2.00     []   \n",
       "\n",
       "                                     artists_name  artists_popularity  \n",
       "0  Armid & Amir Zare Pashai feat. Sara Rouzbehani                   0  \n",
       "1                                     ปูนา ภาวิณี                   0  \n",
       "2                                           Sadaa                   0  \n",
       "3                                       Tra'gruda                   0  \n",
       "4                          Ioannis Panoutsopoulos                   0  "
      ]
     },
     "execution_count": 472,
     "metadata": {},
     "output_type": "execute_result"
    }
   ],
   "source": [
    "artists.head()"
   ]
  },
  {
   "cell_type": "code",
   "execution_count": 473,
   "id": "9b47b895",
   "metadata": {},
   "outputs": [
    {
     "data": {
      "text/plain": [
       "id_artists             0\n",
       "followers             13\n",
       "genres                 0\n",
       "artists_name           3\n",
       "artists_popularity     0\n",
       "dtype: int64"
      ]
     },
     "execution_count": 473,
     "metadata": {},
     "output_type": "execute_result"
    }
   ],
   "source": [
    "artists.isna().sum()"
   ]
  },
  {
   "cell_type": "code",
   "execution_count": 474,
   "id": "2e3ecbca",
   "metadata": {},
   "outputs": [],
   "source": [
    "artists.drop(['genres'], inplace=True, axis=1)"
   ]
  },
  {
   "cell_type": "code",
   "execution_count": 475,
   "id": "daaebf55",
   "metadata": {},
   "outputs": [
    {
     "name": "stdout",
     "output_type": "stream",
     "text": [
      "<class 'pandas.core.frame.DataFrame'>\n",
      "RangeIndex: 1104349 entries, 0 to 1104348\n",
      "Data columns (total 4 columns):\n",
      " #   Column              Non-Null Count    Dtype  \n",
      "---  ------              --------------    -----  \n",
      " 0   id_artists          1104349 non-null  object \n",
      " 1   followers           1104336 non-null  float64\n",
      " 2   artists_name        1104346 non-null  object \n",
      " 3   artists_popularity  1104349 non-null  int64  \n",
      "dtypes: float64(1), int64(1), object(2)\n",
      "memory usage: 33.7+ MB\n"
     ]
    }
   ],
   "source": [
    "artists.info()"
   ]
  },
  {
   "cell_type": "code",
   "execution_count": 476,
   "id": "699d78cf",
   "metadata": {},
   "outputs": [
    {
     "data": {
      "text/plain": [
       "0    ['45tIt06XoI0Iio4LBEVpls']\n",
       "1    ['14jtPCOoNZwquk5wd9DxrY']\n",
       "2    ['5LiOoJbxVSAMkBS2fUm3X2']\n",
       "3    ['5LiOoJbxVSAMkBS2fUm3X2']\n",
       "4    ['3BiJGZsyX9sJchTqcSA7Su']\n",
       "Name: id_artists, dtype: object"
      ]
     },
     "execution_count": 476,
     "metadata": {},
     "output_type": "execute_result"
    }
   ],
   "source": [
    "tracks['id_artists'].head()"
   ]
  },
  {
   "cell_type": "code",
   "execution_count": 477,
   "id": "076a4946",
   "metadata": {},
   "outputs": [],
   "source": [
    "tracks['id_artists'] = tracks['id_artists'].str.replace(\"\\['\", \"\").str.replace(\"\\']\",\"\").str.replace(\"'\",\"\")"
   ]
  },
  {
   "cell_type": "code",
   "execution_count": 478,
   "id": "7b1370d5",
   "metadata": {},
   "outputs": [],
   "source": [
    "tracks['id_artists'] = tracks['id_artists'].str.replace('[', '')"
   ]
  },
  {
   "cell_type": "code",
   "execution_count": 479,
   "id": "0a660f78",
   "metadata": {},
   "outputs": [],
   "source": [
    "tracks['id_artists']= tracks['id_artists'].str.split(',').str[0]"
   ]
  },
  {
   "cell_type": "code",
   "execution_count": 480,
   "id": "f488d29b",
   "metadata": {
    "scrolled": false
   },
   "outputs": [
    {
     "data": {
      "text/html": [
       "<div>\n",
       "<style scoped>\n",
       "    .dataframe tbody tr th:only-of-type {\n",
       "        vertical-align: middle;\n",
       "    }\n",
       "\n",
       "    .dataframe tbody tr th {\n",
       "        vertical-align: top;\n",
       "    }\n",
       "\n",
       "    .dataframe thead th {\n",
       "        text-align: right;\n",
       "    }\n",
       "</style>\n",
       "<table border=\"1\" class=\"dataframe\">\n",
       "  <thead>\n",
       "    <tr style=\"text-align: right;\">\n",
       "      <th></th>\n",
       "      <th>id</th>\n",
       "      <th>track_name</th>\n",
       "      <th>track_popularity</th>\n",
       "      <th>duration_ms</th>\n",
       "      <th>explicit</th>\n",
       "      <th>artists</th>\n",
       "      <th>id_artists</th>\n",
       "      <th>release_date</th>\n",
       "      <th>danceability</th>\n",
       "      <th>energy</th>\n",
       "      <th>key</th>\n",
       "      <th>loudness</th>\n",
       "      <th>mode</th>\n",
       "      <th>speechiness</th>\n",
       "      <th>acousticness</th>\n",
       "      <th>instrumentalness</th>\n",
       "      <th>liveness</th>\n",
       "      <th>valence</th>\n",
       "      <th>tempo</th>\n",
       "      <th>time_signature</th>\n",
       "    </tr>\n",
       "  </thead>\n",
       "  <tbody>\n",
       "    <tr>\n",
       "      <th>0</th>\n",
       "      <td>35iwgR4jXetI318WEWsa1Q</td>\n",
       "      <td>Carve</td>\n",
       "      <td>6</td>\n",
       "      <td>126903</td>\n",
       "      <td>0</td>\n",
       "      <td>['Uli']</td>\n",
       "      <td>45tIt06XoI0Iio4LBEVpls</td>\n",
       "      <td>1922-02-22</td>\n",
       "      <td>0.65</td>\n",
       "      <td>0.45</td>\n",
       "      <td>0</td>\n",
       "      <td>-13.34</td>\n",
       "      <td>1</td>\n",
       "      <td>0.45</td>\n",
       "      <td>0.67</td>\n",
       "      <td>0.74</td>\n",
       "      <td>0.15</td>\n",
       "      <td>0.13</td>\n",
       "      <td>104.85</td>\n",
       "      <td>3</td>\n",
       "    </tr>\n",
       "    <tr>\n",
       "      <th>1</th>\n",
       "      <td>021ht4sdgPcrDgSk7JTbKY</td>\n",
       "      <td>Capítulo 2.16 - Banquero Anarquista</td>\n",
       "      <td>0</td>\n",
       "      <td>98200</td>\n",
       "      <td>0</td>\n",
       "      <td>['Fernando Pessoa']</td>\n",
       "      <td>14jtPCOoNZwquk5wd9DxrY</td>\n",
       "      <td>1922-06-01</td>\n",
       "      <td>0.69</td>\n",
       "      <td>0.26</td>\n",
       "      <td>0</td>\n",
       "      <td>-22.14</td>\n",
       "      <td>1</td>\n",
       "      <td>0.96</td>\n",
       "      <td>0.80</td>\n",
       "      <td>0.00</td>\n",
       "      <td>0.15</td>\n",
       "      <td>0.66</td>\n",
       "      <td>102.01</td>\n",
       "      <td>1</td>\n",
       "    </tr>\n",
       "    <tr>\n",
       "      <th>2</th>\n",
       "      <td>07A5yehtSnoedViJAZkNnc</td>\n",
       "      <td>Vivo para Quererte - Remasterizado</td>\n",
       "      <td>0</td>\n",
       "      <td>181640</td>\n",
       "      <td>0</td>\n",
       "      <td>['Ignacio Corsini']</td>\n",
       "      <td>5LiOoJbxVSAMkBS2fUm3X2</td>\n",
       "      <td>1922-03-21</td>\n",
       "      <td>0.43</td>\n",
       "      <td>0.18</td>\n",
       "      <td>1</td>\n",
       "      <td>-21.18</td>\n",
       "      <td>1</td>\n",
       "      <td>0.05</td>\n",
       "      <td>0.99</td>\n",
       "      <td>0.02</td>\n",
       "      <td>0.21</td>\n",
       "      <td>0.46</td>\n",
       "      <td>130.42</td>\n",
       "      <td>5</td>\n",
       "    </tr>\n",
       "    <tr>\n",
       "      <th>3</th>\n",
       "      <td>08FmqUhxtyLTn6pAh6bk45</td>\n",
       "      <td>El Prisionero - Remasterizado</td>\n",
       "      <td>0</td>\n",
       "      <td>176907</td>\n",
       "      <td>0</td>\n",
       "      <td>['Ignacio Corsini']</td>\n",
       "      <td>5LiOoJbxVSAMkBS2fUm3X2</td>\n",
       "      <td>1922-03-21</td>\n",
       "      <td>0.32</td>\n",
       "      <td>0.09</td>\n",
       "      <td>7</td>\n",
       "      <td>-27.96</td>\n",
       "      <td>1</td>\n",
       "      <td>0.05</td>\n",
       "      <td>0.99</td>\n",
       "      <td>0.92</td>\n",
       "      <td>0.10</td>\n",
       "      <td>0.40</td>\n",
       "      <td>169.98</td>\n",
       "      <td>3</td>\n",
       "    </tr>\n",
       "    <tr>\n",
       "      <th>4</th>\n",
       "      <td>08y9GfoqCWfOGsKdwojr5e</td>\n",
       "      <td>Lady of the Evening</td>\n",
       "      <td>0</td>\n",
       "      <td>163080</td>\n",
       "      <td>0</td>\n",
       "      <td>['Dick Haymes']</td>\n",
       "      <td>3BiJGZsyX9sJchTqcSA7Su</td>\n",
       "      <td>1922</td>\n",
       "      <td>0.40</td>\n",
       "      <td>0.16</td>\n",
       "      <td>3</td>\n",
       "      <td>-16.90</td>\n",
       "      <td>0</td>\n",
       "      <td>0.04</td>\n",
       "      <td>0.99</td>\n",
       "      <td>0.13</td>\n",
       "      <td>0.31</td>\n",
       "      <td>0.20</td>\n",
       "      <td>103.22</td>\n",
       "      <td>4</td>\n",
       "    </tr>\n",
       "    <tr>\n",
       "      <th>...</th>\n",
       "      <td>...</td>\n",
       "      <td>...</td>\n",
       "      <td>...</td>\n",
       "      <td>...</td>\n",
       "      <td>...</td>\n",
       "      <td>...</td>\n",
       "      <td>...</td>\n",
       "      <td>...</td>\n",
       "      <td>...</td>\n",
       "      <td>...</td>\n",
       "      <td>...</td>\n",
       "      <td>...</td>\n",
       "      <td>...</td>\n",
       "      <td>...</td>\n",
       "      <td>...</td>\n",
       "      <td>...</td>\n",
       "      <td>...</td>\n",
       "      <td>...</td>\n",
       "      <td>...</td>\n",
       "      <td>...</td>\n",
       "    </tr>\n",
       "    <tr>\n",
       "      <th>95</th>\n",
       "      <td>4CjnVzvSu86vqI5gY8SjPx</td>\n",
       "      <td>Elle Vendait Des P'tits Gateaux</td>\n",
       "      <td>0</td>\n",
       "      <td>151573</td>\n",
       "      <td>0</td>\n",
       "      <td>['Félix Mayol']</td>\n",
       "      <td>7DIlOK9L8d0IQ7Xk8aJxDW</td>\n",
       "      <td>1922</td>\n",
       "      <td>0.72</td>\n",
       "      <td>0.30</td>\n",
       "      <td>5</td>\n",
       "      <td>-14.07</td>\n",
       "      <td>1</td>\n",
       "      <td>0.10</td>\n",
       "      <td>0.99</td>\n",
       "      <td>0.00</td>\n",
       "      <td>0.28</td>\n",
       "      <td>0.97</td>\n",
       "      <td>129.15</td>\n",
       "      <td>4</td>\n",
       "    </tr>\n",
       "    <tr>\n",
       "      <th>96</th>\n",
       "      <td>4DE7VBCgyTjqV0Plc9Ra0U</td>\n",
       "      <td>Hush-A-Bye (Wee Rose of Kilarney)</td>\n",
       "      <td>0</td>\n",
       "      <td>156880</td>\n",
       "      <td>0</td>\n",
       "      <td>['Dick Haymes', 'Victor Young', 'His Orchestra']</td>\n",
       "      <td>3BiJGZsyX9sJchTqcSA7Su</td>\n",
       "      <td>1922</td>\n",
       "      <td>0.28</td>\n",
       "      <td>0.13</td>\n",
       "      <td>0</td>\n",
       "      <td>-19.79</td>\n",
       "      <td>1</td>\n",
       "      <td>0.04</td>\n",
       "      <td>0.99</td>\n",
       "      <td>0.61</td>\n",
       "      <td>0.12</td>\n",
       "      <td>0.14</td>\n",
       "      <td>79.12</td>\n",
       "      <td>5</td>\n",
       "    </tr>\n",
       "    <tr>\n",
       "      <th>97</th>\n",
       "      <td>4FCWuuqM851ACz8p1b41fi</td>\n",
       "      <td>Capítulo 2.23 - Banquero Anarquista</td>\n",
       "      <td>0</td>\n",
       "      <td>97200</td>\n",
       "      <td>0</td>\n",
       "      <td>['Fernando Pessoa']</td>\n",
       "      <td>14jtPCOoNZwquk5wd9DxrY</td>\n",
       "      <td>1922-06-01</td>\n",
       "      <td>0.71</td>\n",
       "      <td>0.22</td>\n",
       "      <td>9</td>\n",
       "      <td>-21.18</td>\n",
       "      <td>0</td>\n",
       "      <td>0.95</td>\n",
       "      <td>0.52</td>\n",
       "      <td>0.00</td>\n",
       "      <td>0.22</td>\n",
       "      <td>0.54</td>\n",
       "      <td>110.82</td>\n",
       "      <td>3</td>\n",
       "    </tr>\n",
       "    <tr>\n",
       "      <th>98</th>\n",
       "      <td>4RR5RKLA2vTQxkWrMIeHem</td>\n",
       "      <td>Cap Polonio - Remasterizado</td>\n",
       "      <td>0</td>\n",
       "      <td>161080</td>\n",
       "      <td>0</td>\n",
       "      <td>['Ignacio Corsini']</td>\n",
       "      <td>5LiOoJbxVSAMkBS2fUm3X2</td>\n",
       "      <td>1922-03-21</td>\n",
       "      <td>0.54</td>\n",
       "      <td>0.16</td>\n",
       "      <td>3</td>\n",
       "      <td>-21.25</td>\n",
       "      <td>1</td>\n",
       "      <td>0.09</td>\n",
       "      <td>1.00</td>\n",
       "      <td>0.91</td>\n",
       "      <td>0.13</td>\n",
       "      <td>0.71</td>\n",
       "      <td>143.10</td>\n",
       "      <td>4</td>\n",
       "    </tr>\n",
       "    <tr>\n",
       "      <th>99</th>\n",
       "      <td>4UnGZFw9ot80NLBBBFImny</td>\n",
       "      <td>Chapter 1.3 - Szkolne przygody Pimpusia Sadełko</td>\n",
       "      <td>0</td>\n",
       "      <td>311000</td>\n",
       "      <td>0</td>\n",
       "      <td>['Maria Konopnicka']</td>\n",
       "      <td>6NyLf1mINBZQcR8gWeE5kC</td>\n",
       "      <td>1922-01-06</td>\n",
       "      <td>0.62</td>\n",
       "      <td>0.21</td>\n",
       "      <td>1</td>\n",
       "      <td>-19.02</td>\n",
       "      <td>1</td>\n",
       "      <td>0.96</td>\n",
       "      <td>0.76</td>\n",
       "      <td>0.00</td>\n",
       "      <td>0.15</td>\n",
       "      <td>0.38</td>\n",
       "      <td>74.43</td>\n",
       "      <td>3</td>\n",
       "    </tr>\n",
       "  </tbody>\n",
       "</table>\n",
       "<p>100 rows × 20 columns</p>\n",
       "</div>"
      ],
      "text/plain": [
       "                        id                                       track_name  \\\n",
       "0   35iwgR4jXetI318WEWsa1Q                                            Carve   \n",
       "1   021ht4sdgPcrDgSk7JTbKY              Capítulo 2.16 - Banquero Anarquista   \n",
       "2   07A5yehtSnoedViJAZkNnc               Vivo para Quererte - Remasterizado   \n",
       "3   08FmqUhxtyLTn6pAh6bk45                    El Prisionero - Remasterizado   \n",
       "4   08y9GfoqCWfOGsKdwojr5e                              Lady of the Evening   \n",
       "..                     ...                                              ...   \n",
       "95  4CjnVzvSu86vqI5gY8SjPx                  Elle Vendait Des P'tits Gateaux   \n",
       "96  4DE7VBCgyTjqV0Plc9Ra0U                Hush-A-Bye (Wee Rose of Kilarney)   \n",
       "97  4FCWuuqM851ACz8p1b41fi              Capítulo 2.23 - Banquero Anarquista   \n",
       "98  4RR5RKLA2vTQxkWrMIeHem                      Cap Polonio - Remasterizado   \n",
       "99  4UnGZFw9ot80NLBBBFImny  Chapter 1.3 - Szkolne przygody Pimpusia Sadełko   \n",
       "\n",
       "    track_popularity  duration_ms  explicit  \\\n",
       "0                  6       126903         0   \n",
       "1                  0        98200         0   \n",
       "2                  0       181640         0   \n",
       "3                  0       176907         0   \n",
       "4                  0       163080         0   \n",
       "..               ...          ...       ...   \n",
       "95                 0       151573         0   \n",
       "96                 0       156880         0   \n",
       "97                 0        97200         0   \n",
       "98                 0       161080         0   \n",
       "99                 0       311000         0   \n",
       "\n",
       "                                             artists              id_artists  \\\n",
       "0                                            ['Uli']  45tIt06XoI0Iio4LBEVpls   \n",
       "1                                ['Fernando Pessoa']  14jtPCOoNZwquk5wd9DxrY   \n",
       "2                                ['Ignacio Corsini']  5LiOoJbxVSAMkBS2fUm3X2   \n",
       "3                                ['Ignacio Corsini']  5LiOoJbxVSAMkBS2fUm3X2   \n",
       "4                                    ['Dick Haymes']  3BiJGZsyX9sJchTqcSA7Su   \n",
       "..                                               ...                     ...   \n",
       "95                                   ['Félix Mayol']  7DIlOK9L8d0IQ7Xk8aJxDW   \n",
       "96  ['Dick Haymes', 'Victor Young', 'His Orchestra']  3BiJGZsyX9sJchTqcSA7Su   \n",
       "97                               ['Fernando Pessoa']  14jtPCOoNZwquk5wd9DxrY   \n",
       "98                               ['Ignacio Corsini']  5LiOoJbxVSAMkBS2fUm3X2   \n",
       "99                              ['Maria Konopnicka']  6NyLf1mINBZQcR8gWeE5kC   \n",
       "\n",
       "   release_date  danceability  energy  key  loudness  mode  speechiness  \\\n",
       "0    1922-02-22          0.65    0.45    0    -13.34     1         0.45   \n",
       "1    1922-06-01          0.69    0.26    0    -22.14     1         0.96   \n",
       "2    1922-03-21          0.43    0.18    1    -21.18     1         0.05   \n",
       "3    1922-03-21          0.32    0.09    7    -27.96     1         0.05   \n",
       "4          1922          0.40    0.16    3    -16.90     0         0.04   \n",
       "..          ...           ...     ...  ...       ...   ...          ...   \n",
       "95         1922          0.72    0.30    5    -14.07     1         0.10   \n",
       "96         1922          0.28    0.13    0    -19.79     1         0.04   \n",
       "97   1922-06-01          0.71    0.22    9    -21.18     0         0.95   \n",
       "98   1922-03-21          0.54    0.16    3    -21.25     1         0.09   \n",
       "99   1922-01-06          0.62    0.21    1    -19.02     1         0.96   \n",
       "\n",
       "    acousticness  instrumentalness  liveness  valence  tempo  time_signature  \n",
       "0           0.67              0.74      0.15     0.13 104.85               3  \n",
       "1           0.80              0.00      0.15     0.66 102.01               1  \n",
       "2           0.99              0.02      0.21     0.46 130.42               5  \n",
       "3           0.99              0.92      0.10     0.40 169.98               3  \n",
       "4           0.99              0.13      0.31     0.20 103.22               4  \n",
       "..           ...               ...       ...      ...    ...             ...  \n",
       "95          0.99              0.00      0.28     0.97 129.15               4  \n",
       "96          0.99              0.61      0.12     0.14  79.12               5  \n",
       "97          0.52              0.00      0.22     0.54 110.82               3  \n",
       "98          1.00              0.91      0.13     0.71 143.10               4  \n",
       "99          0.76              0.00      0.15     0.38  74.43               3  \n",
       "\n",
       "[100 rows x 20 columns]"
      ]
     },
     "execution_count": 480,
     "metadata": {},
     "output_type": "execute_result"
    }
   ],
   "source": [
    "tracks.head(100)"
   ]
  },
  {
   "cell_type": "code",
   "execution_count": 481,
   "id": "d56bfa06",
   "metadata": {},
   "outputs": [
    {
     "data": {
      "text/html": [
       "<div>\n",
       "<style scoped>\n",
       "    .dataframe tbody tr th:only-of-type {\n",
       "        vertical-align: middle;\n",
       "    }\n",
       "\n",
       "    .dataframe tbody tr th {\n",
       "        vertical-align: top;\n",
       "    }\n",
       "\n",
       "    .dataframe thead th {\n",
       "        text-align: right;\n",
       "    }\n",
       "</style>\n",
       "<table border=\"1\" class=\"dataframe\">\n",
       "  <thead>\n",
       "    <tr style=\"text-align: right;\">\n",
       "      <th></th>\n",
       "      <th>id</th>\n",
       "      <th>track_name</th>\n",
       "      <th>track_popularity</th>\n",
       "      <th>duration_ms</th>\n",
       "      <th>explicit</th>\n",
       "      <th>artists</th>\n",
       "      <th>id_artists</th>\n",
       "      <th>release_date</th>\n",
       "      <th>danceability</th>\n",
       "      <th>energy</th>\n",
       "      <th>...</th>\n",
       "      <th>speechiness</th>\n",
       "      <th>acousticness</th>\n",
       "      <th>instrumentalness</th>\n",
       "      <th>liveness</th>\n",
       "      <th>valence</th>\n",
       "      <th>tempo</th>\n",
       "      <th>time_signature</th>\n",
       "      <th>followers</th>\n",
       "      <th>artists_name</th>\n",
       "      <th>artists_popularity</th>\n",
       "    </tr>\n",
       "  </thead>\n",
       "  <tbody>\n",
       "    <tr>\n",
       "      <th>0</th>\n",
       "      <td>35iwgR4jXetI318WEWsa1Q</td>\n",
       "      <td>Carve</td>\n",
       "      <td>6</td>\n",
       "      <td>126903</td>\n",
       "      <td>0</td>\n",
       "      <td>['Uli']</td>\n",
       "      <td>45tIt06XoI0Iio4LBEVpls</td>\n",
       "      <td>1922-02-22</td>\n",
       "      <td>0.65</td>\n",
       "      <td>0.45</td>\n",
       "      <td>...</td>\n",
       "      <td>0.45</td>\n",
       "      <td>0.67</td>\n",
       "      <td>0.74</td>\n",
       "      <td>0.15</td>\n",
       "      <td>0.13</td>\n",
       "      <td>104.85</td>\n",
       "      <td>3</td>\n",
       "      <td>91.00</td>\n",
       "      <td>Uli</td>\n",
       "      <td>4.00</td>\n",
       "    </tr>\n",
       "    <tr>\n",
       "      <th>1</th>\n",
       "      <td>021ht4sdgPcrDgSk7JTbKY</td>\n",
       "      <td>Capítulo 2.16 - Banquero Anarquista</td>\n",
       "      <td>0</td>\n",
       "      <td>98200</td>\n",
       "      <td>0</td>\n",
       "      <td>['Fernando Pessoa']</td>\n",
       "      <td>14jtPCOoNZwquk5wd9DxrY</td>\n",
       "      <td>1922-06-01</td>\n",
       "      <td>0.69</td>\n",
       "      <td>0.26</td>\n",
       "      <td>...</td>\n",
       "      <td>0.96</td>\n",
       "      <td>0.80</td>\n",
       "      <td>0.00</td>\n",
       "      <td>0.15</td>\n",
       "      <td>0.66</td>\n",
       "      <td>102.01</td>\n",
       "      <td>1</td>\n",
       "      <td>3.00</td>\n",
       "      <td>Fernando Pessoa</td>\n",
       "      <td>0.00</td>\n",
       "    </tr>\n",
       "    <tr>\n",
       "      <th>2</th>\n",
       "      <td>07A5yehtSnoedViJAZkNnc</td>\n",
       "      <td>Vivo para Quererte - Remasterizado</td>\n",
       "      <td>0</td>\n",
       "      <td>181640</td>\n",
       "      <td>0</td>\n",
       "      <td>['Ignacio Corsini']</td>\n",
       "      <td>5LiOoJbxVSAMkBS2fUm3X2</td>\n",
       "      <td>1922-03-21</td>\n",
       "      <td>0.43</td>\n",
       "      <td>0.18</td>\n",
       "      <td>...</td>\n",
       "      <td>0.05</td>\n",
       "      <td>0.99</td>\n",
       "      <td>0.02</td>\n",
       "      <td>0.21</td>\n",
       "      <td>0.46</td>\n",
       "      <td>130.42</td>\n",
       "      <td>5</td>\n",
       "      <td>3528.00</td>\n",
       "      <td>Ignacio Corsini</td>\n",
       "      <td>23.00</td>\n",
       "    </tr>\n",
       "    <tr>\n",
       "      <th>3</th>\n",
       "      <td>08FmqUhxtyLTn6pAh6bk45</td>\n",
       "      <td>El Prisionero - Remasterizado</td>\n",
       "      <td>0</td>\n",
       "      <td>176907</td>\n",
       "      <td>0</td>\n",
       "      <td>['Ignacio Corsini']</td>\n",
       "      <td>5LiOoJbxVSAMkBS2fUm3X2</td>\n",
       "      <td>1922-03-21</td>\n",
       "      <td>0.32</td>\n",
       "      <td>0.09</td>\n",
       "      <td>...</td>\n",
       "      <td>0.05</td>\n",
       "      <td>0.99</td>\n",
       "      <td>0.92</td>\n",
       "      <td>0.10</td>\n",
       "      <td>0.40</td>\n",
       "      <td>169.98</td>\n",
       "      <td>3</td>\n",
       "      <td>3528.00</td>\n",
       "      <td>Ignacio Corsini</td>\n",
       "      <td>23.00</td>\n",
       "    </tr>\n",
       "    <tr>\n",
       "      <th>4</th>\n",
       "      <td>08y9GfoqCWfOGsKdwojr5e</td>\n",
       "      <td>Lady of the Evening</td>\n",
       "      <td>0</td>\n",
       "      <td>163080</td>\n",
       "      <td>0</td>\n",
       "      <td>['Dick Haymes']</td>\n",
       "      <td>3BiJGZsyX9sJchTqcSA7Su</td>\n",
       "      <td>1922</td>\n",
       "      <td>0.40</td>\n",
       "      <td>0.16</td>\n",
       "      <td>...</td>\n",
       "      <td>0.04</td>\n",
       "      <td>0.99</td>\n",
       "      <td>0.13</td>\n",
       "      <td>0.31</td>\n",
       "      <td>0.20</td>\n",
       "      <td>103.22</td>\n",
       "      <td>4</td>\n",
       "      <td>11327.00</td>\n",
       "      <td>Dick Haymes</td>\n",
       "      <td>35.00</td>\n",
       "    </tr>\n",
       "    <tr>\n",
       "      <th>...</th>\n",
       "      <td>...</td>\n",
       "      <td>...</td>\n",
       "      <td>...</td>\n",
       "      <td>...</td>\n",
       "      <td>...</td>\n",
       "      <td>...</td>\n",
       "      <td>...</td>\n",
       "      <td>...</td>\n",
       "      <td>...</td>\n",
       "      <td>...</td>\n",
       "      <td>...</td>\n",
       "      <td>...</td>\n",
       "      <td>...</td>\n",
       "      <td>...</td>\n",
       "      <td>...</td>\n",
       "      <td>...</td>\n",
       "      <td>...</td>\n",
       "      <td>...</td>\n",
       "      <td>...</td>\n",
       "      <td>...</td>\n",
       "      <td>...</td>\n",
       "    </tr>\n",
       "    <tr>\n",
       "      <th>586667</th>\n",
       "      <td>5rgu12WBIHQtvej2MdHSH0</td>\n",
       "      <td>云与海</td>\n",
       "      <td>50</td>\n",
       "      <td>258267</td>\n",
       "      <td>0</td>\n",
       "      <td>['阿YueYue']</td>\n",
       "      <td>1QLBXKM5GCpyQQSVMNZqrZ</td>\n",
       "      <td>2020-09-26</td>\n",
       "      <td>0.56</td>\n",
       "      <td>0.52</td>\n",
       "      <td>...</td>\n",
       "      <td>0.03</td>\n",
       "      <td>0.79</td>\n",
       "      <td>0.00</td>\n",
       "      <td>0.06</td>\n",
       "      <td>0.21</td>\n",
       "      <td>131.90</td>\n",
       "      <td>4</td>\n",
       "      <td>896.00</td>\n",
       "      <td>阿YueYue</td>\n",
       "      <td>38.00</td>\n",
       "    </tr>\n",
       "    <tr>\n",
       "      <th>586668</th>\n",
       "      <td>0NuWgxEp51CutD2pJoF4OM</td>\n",
       "      <td>blind</td>\n",
       "      <td>72</td>\n",
       "      <td>153293</td>\n",
       "      <td>0</td>\n",
       "      <td>['ROLE MODEL']</td>\n",
       "      <td>1dy5WNgIKQU6ezkpZs4y8z</td>\n",
       "      <td>2020-10-21</td>\n",
       "      <td>0.77</td>\n",
       "      <td>0.66</td>\n",
       "      <td>...</td>\n",
       "      <td>0.07</td>\n",
       "      <td>0.14</td>\n",
       "      <td>0.00</td>\n",
       "      <td>0.09</td>\n",
       "      <td>0.69</td>\n",
       "      <td>150.09</td>\n",
       "      <td>4</td>\n",
       "      <td>245944.00</td>\n",
       "      <td>ROLE MODEL</td>\n",
       "      <td>67.00</td>\n",
       "    </tr>\n",
       "    <tr>\n",
       "      <th>586669</th>\n",
       "      <td>27Y1N4Q4U3EfDU5Ubw8ws2</td>\n",
       "      <td>What They'll Say About Us</td>\n",
       "      <td>70</td>\n",
       "      <td>187601</td>\n",
       "      <td>0</td>\n",
       "      <td>['FINNEAS']</td>\n",
       "      <td>37M5pPGs6V1fchFJSgCguX</td>\n",
       "      <td>2020-09-02</td>\n",
       "      <td>0.54</td>\n",
       "      <td>0.31</td>\n",
       "      <td>...</td>\n",
       "      <td>0.04</td>\n",
       "      <td>0.90</td>\n",
       "      <td>0.00</td>\n",
       "      <td>0.09</td>\n",
       "      <td>0.07</td>\n",
       "      <td>145.09</td>\n",
       "      <td>4</td>\n",
       "      <td>1168213.00</td>\n",
       "      <td>FINNEAS</td>\n",
       "      <td>77.00</td>\n",
       "    </tr>\n",
       "    <tr>\n",
       "      <th>586670</th>\n",
       "      <td>45XJsGpFTyzbzeWK8VzR8S</td>\n",
       "      <td>A Day At A Time</td>\n",
       "      <td>58</td>\n",
       "      <td>142003</td>\n",
       "      <td>0</td>\n",
       "      <td>['Gentle Bones', 'Clara Benin']</td>\n",
       "      <td>4jGPdu95icCKVF31CcFKbS</td>\n",
       "      <td>2021-03-05</td>\n",
       "      <td>0.70</td>\n",
       "      <td>0.61</td>\n",
       "      <td>...</td>\n",
       "      <td>0.03</td>\n",
       "      <td>0.21</td>\n",
       "      <td>0.00</td>\n",
       "      <td>0.30</td>\n",
       "      <td>0.44</td>\n",
       "      <td>90.03</td>\n",
       "      <td>4</td>\n",
       "      <td>45309.00</td>\n",
       "      <td>Gentle Bones</td>\n",
       "      <td>58.00</td>\n",
       "    </tr>\n",
       "    <tr>\n",
       "      <th>586671</th>\n",
       "      <td>5Ocn6dZ3BJFPWh4ylwFXtn</td>\n",
       "      <td>Mar de Emociones</td>\n",
       "      <td>38</td>\n",
       "      <td>214360</td>\n",
       "      <td>0</td>\n",
       "      <td>['Afrosound']</td>\n",
       "      <td>0i4Qda0k4nf7jnNHmSNpYv</td>\n",
       "      <td>2015-07-01</td>\n",
       "      <td>0.69</td>\n",
       "      <td>0.72</td>\n",
       "      <td>...</td>\n",
       "      <td>0.04</td>\n",
       "      <td>0.10</td>\n",
       "      <td>0.00</td>\n",
       "      <td>0.26</td>\n",
       "      <td>0.97</td>\n",
       "      <td>112.20</td>\n",
       "      <td>4</td>\n",
       "      <td>19634.00</td>\n",
       "      <td>Afrosound</td>\n",
       "      <td>41.00</td>\n",
       "    </tr>\n",
       "  </tbody>\n",
       "</table>\n",
       "<p>586672 rows × 23 columns</p>\n",
       "</div>"
      ],
      "text/plain": [
       "                            id                           track_name  \\\n",
       "0       35iwgR4jXetI318WEWsa1Q                                Carve   \n",
       "1       021ht4sdgPcrDgSk7JTbKY  Capítulo 2.16 - Banquero Anarquista   \n",
       "2       07A5yehtSnoedViJAZkNnc   Vivo para Quererte - Remasterizado   \n",
       "3       08FmqUhxtyLTn6pAh6bk45        El Prisionero - Remasterizado   \n",
       "4       08y9GfoqCWfOGsKdwojr5e                  Lady of the Evening   \n",
       "...                        ...                                  ...   \n",
       "586667  5rgu12WBIHQtvej2MdHSH0                                  云与海   \n",
       "586668  0NuWgxEp51CutD2pJoF4OM                                blind   \n",
       "586669  27Y1N4Q4U3EfDU5Ubw8ws2            What They'll Say About Us   \n",
       "586670  45XJsGpFTyzbzeWK8VzR8S                      A Day At A Time   \n",
       "586671  5Ocn6dZ3BJFPWh4ylwFXtn                     Mar de Emociones   \n",
       "\n",
       "        track_popularity  duration_ms  explicit  \\\n",
       "0                      6       126903         0   \n",
       "1                      0        98200         0   \n",
       "2                      0       181640         0   \n",
       "3                      0       176907         0   \n",
       "4                      0       163080         0   \n",
       "...                  ...          ...       ...   \n",
       "586667                50       258267         0   \n",
       "586668                72       153293         0   \n",
       "586669                70       187601         0   \n",
       "586670                58       142003         0   \n",
       "586671                38       214360         0   \n",
       "\n",
       "                                artists              id_artists release_date  \\\n",
       "0                               ['Uli']  45tIt06XoI0Iio4LBEVpls   1922-02-22   \n",
       "1                   ['Fernando Pessoa']  14jtPCOoNZwquk5wd9DxrY   1922-06-01   \n",
       "2                   ['Ignacio Corsini']  5LiOoJbxVSAMkBS2fUm3X2   1922-03-21   \n",
       "3                   ['Ignacio Corsini']  5LiOoJbxVSAMkBS2fUm3X2   1922-03-21   \n",
       "4                       ['Dick Haymes']  3BiJGZsyX9sJchTqcSA7Su         1922   \n",
       "...                                 ...                     ...          ...   \n",
       "586667                      ['阿YueYue']  1QLBXKM5GCpyQQSVMNZqrZ   2020-09-26   \n",
       "586668                   ['ROLE MODEL']  1dy5WNgIKQU6ezkpZs4y8z   2020-10-21   \n",
       "586669                      ['FINNEAS']  37M5pPGs6V1fchFJSgCguX   2020-09-02   \n",
       "586670  ['Gentle Bones', 'Clara Benin']  4jGPdu95icCKVF31CcFKbS   2021-03-05   \n",
       "586671                    ['Afrosound']  0i4Qda0k4nf7jnNHmSNpYv   2015-07-01   \n",
       "\n",
       "        danceability  energy  ...  speechiness  acousticness  \\\n",
       "0               0.65    0.45  ...         0.45          0.67   \n",
       "1               0.69    0.26  ...         0.96          0.80   \n",
       "2               0.43    0.18  ...         0.05          0.99   \n",
       "3               0.32    0.09  ...         0.05          0.99   \n",
       "4               0.40    0.16  ...         0.04          0.99   \n",
       "...              ...     ...  ...          ...           ...   \n",
       "586667          0.56    0.52  ...         0.03          0.79   \n",
       "586668          0.77    0.66  ...         0.07          0.14   \n",
       "586669          0.54    0.31  ...         0.04          0.90   \n",
       "586670          0.70    0.61  ...         0.03          0.21   \n",
       "586671          0.69    0.72  ...         0.04          0.10   \n",
       "\n",
       "        instrumentalness  liveness  valence  tempo  time_signature  followers  \\\n",
       "0                   0.74      0.15     0.13 104.85               3      91.00   \n",
       "1                   0.00      0.15     0.66 102.01               1       3.00   \n",
       "2                   0.02      0.21     0.46 130.42               5    3528.00   \n",
       "3                   0.92      0.10     0.40 169.98               3    3528.00   \n",
       "4                   0.13      0.31     0.20 103.22               4   11327.00   \n",
       "...                  ...       ...      ...    ...             ...        ...   \n",
       "586667              0.00      0.06     0.21 131.90               4     896.00   \n",
       "586668              0.00      0.09     0.69 150.09               4  245944.00   \n",
       "586669              0.00      0.09     0.07 145.09               4 1168213.00   \n",
       "586670              0.00      0.30     0.44  90.03               4   45309.00   \n",
       "586671              0.00      0.26     0.97 112.20               4   19634.00   \n",
       "\n",
       "           artists_name  artists_popularity  \n",
       "0                   Uli                4.00  \n",
       "1       Fernando Pessoa                0.00  \n",
       "2       Ignacio Corsini               23.00  \n",
       "3       Ignacio Corsini               23.00  \n",
       "4           Dick Haymes               35.00  \n",
       "...                 ...                 ...  \n",
       "586667          阿YueYue               38.00  \n",
       "586668       ROLE MODEL               67.00  \n",
       "586669          FINNEAS               77.00  \n",
       "586670     Gentle Bones               58.00  \n",
       "586671        Afrosound               41.00  \n",
       "\n",
       "[586672 rows x 23 columns]"
      ]
     },
     "execution_count": 481,
     "metadata": {},
     "output_type": "execute_result"
    }
   ],
   "source": [
    "#merging the datasets\n",
    "df_merged = tracks.merge(artists, how='left', left_on='id_artists', right_on='id_artists', validate='many_to_one')\n",
    "df_merged"
   ]
  },
  {
   "cell_type": "code",
   "execution_count": 482,
   "id": "a1dec65c",
   "metadata": {},
   "outputs": [
    {
     "data": {
      "text/plain": [
       "id                        0\n",
       "track_name               71\n",
       "track_popularity          0\n",
       "duration_ms               0\n",
       "explicit                  0\n",
       "artists                   0\n",
       "id_artists                0\n",
       "release_date              0\n",
       "danceability              0\n",
       "energy                    0\n",
       "key                       0\n",
       "loudness                  0\n",
       "mode                      0\n",
       "speechiness               0\n",
       "acousticness              0\n",
       "instrumentalness          0\n",
       "liveness                  0\n",
       "valence                   0\n",
       "tempo                     0\n",
       "time_signature            0\n",
       "followers             12416\n",
       "artists_name          12415\n",
       "artists_popularity    12415\n",
       "dtype: int64"
      ]
     },
     "execution_count": 482,
     "metadata": {},
     "output_type": "execute_result"
    }
   ],
   "source": [
    "df_merged.isna().sum()"
   ]
  },
  {
   "cell_type": "code",
   "execution_count": 483,
   "id": "c20bf486",
   "metadata": {},
   "outputs": [],
   "source": [
    "df_merged = df_merged.drop(['id', 'id_artists', 'release_date', 'explicit'], axis=1)"
   ]
  },
  {
   "cell_type": "code",
   "execution_count": 484,
   "id": "338f21ca",
   "metadata": {},
   "outputs": [
    {
     "name": "stdout",
     "output_type": "stream",
     "text": [
      "<class 'pandas.core.frame.DataFrame'>\n",
      "RangeIndex: 586672 entries, 0 to 586671\n",
      "Data columns (total 19 columns):\n",
      " #   Column              Non-Null Count   Dtype  \n",
      "---  ------              --------------   -----  \n",
      " 0   track_name          586601 non-null  object \n",
      " 1   track_popularity    586672 non-null  int64  \n",
      " 2   duration_ms         586672 non-null  int64  \n",
      " 3   artists             586672 non-null  object \n",
      " 4   danceability        586672 non-null  float64\n",
      " 5   energy              586672 non-null  float64\n",
      " 6   key                 586672 non-null  int64  \n",
      " 7   loudness            586672 non-null  float64\n",
      " 8   mode                586672 non-null  int64  \n",
      " 9   speechiness         586672 non-null  float64\n",
      " 10  acousticness        586672 non-null  float64\n",
      " 11  instrumentalness    586672 non-null  float64\n",
      " 12  liveness            586672 non-null  float64\n",
      " 13  valence             586672 non-null  float64\n",
      " 14  tempo               586672 non-null  float64\n",
      " 15  time_signature      586672 non-null  int64  \n",
      " 16  followers           574256 non-null  float64\n",
      " 17  artists_name        574257 non-null  object \n",
      " 18  artists_popularity  574257 non-null  float64\n",
      "dtypes: float64(11), int64(5), object(3)\n",
      "memory usage: 85.0+ MB\n"
     ]
    }
   ],
   "source": [
    "df_merged.info()"
   ]
  },
  {
   "cell_type": "code",
   "execution_count": 485,
   "id": "ddd528b3",
   "metadata": {},
   "outputs": [],
   "source": [
    "dupl_rows = df_merged.duplicated().sum()"
   ]
  },
  {
   "cell_type": "code",
   "execution_count": 486,
   "id": "af2e0c55",
   "metadata": {},
   "outputs": [
    {
     "data": {
      "text/plain": [
       "2262"
      ]
     },
     "execution_count": 486,
     "metadata": {},
     "output_type": "execute_result"
    }
   ],
   "source": [
    "dupl_rows"
   ]
  },
  {
   "cell_type": "code",
   "execution_count": 487,
   "id": "e29181d3",
   "metadata": {},
   "outputs": [
    {
     "data": {
      "text/plain": [
       "0                                  Carve\n",
       "1    Capítulo 2.16 - Banquero Anarquista\n",
       "2     Vivo para Quererte - Remasterizado\n",
       "3          El Prisionero - Remasterizado\n",
       "4                    Lady of the Evening\n",
       "Name: track_name, dtype: object"
      ]
     },
     "execution_count": 487,
     "metadata": {},
     "output_type": "execute_result"
    }
   ],
   "source": [
    "df_merged['track_name'].head()"
   ]
  },
  {
   "cell_type": "code",
   "execution_count": 488,
   "id": "8e6f2085",
   "metadata": {},
   "outputs": [],
   "source": [
    "df_merged.drop(['track_name'], inplace=True, axis=1)"
   ]
  },
  {
   "cell_type": "code",
   "execution_count": 489,
   "id": "b0ea6a08",
   "metadata": {},
   "outputs": [
    {
     "data": {
      "text/plain": [
       "<Axes: >"
      ]
     },
     "execution_count": 489,
     "metadata": {},
     "output_type": "execute_result"
    },
    {
     "data": {
      "image/png": "[encoded data removed]",
      "text/plain": [
       "<Figure size 640x480 with 1 Axes>"
      ]
     },
     "metadata": {},
     "output_type": "display_data"
    }
   ],
   "source": [
    "sns.boxplot(df_merged['artists_popularity'])"
   ]
  },
  {
   "cell_type": "code",
   "execution_count": 490,
   "id": "e745f770",
   "metadata": {},
   "outputs": [
    {
     "data": {
      "text/plain": [
       "track_popularity          0\n",
       "duration_ms               0\n",
       "artists                   0\n",
       "danceability              0\n",
       "energy                    0\n",
       "key                       0\n",
       "loudness                  0\n",
       "mode                      0\n",
       "speechiness               0\n",
       "acousticness              0\n",
       "instrumentalness          0\n",
       "liveness                  0\n",
       "valence                   0\n",
       "tempo                     0\n",
       "time_signature            0\n",
       "followers             12416\n",
       "artists_name          12415\n",
       "artists_popularity    12415\n",
       "dtype: int64"
      ]
     },
     "execution_count": 490,
     "metadata": {},
     "output_type": "execute_result"
    }
   ],
   "source": [
    "df_merged.isna().sum()"
   ]
  },
  {
   "cell_type": "code",
   "execution_count": 491,
   "id": "bc6791be",
   "metadata": {},
   "outputs": [
    {
     "data": {
      "text/html": [
       "<div>\n",
       "<style scoped>\n",
       "    .dataframe tbody tr th:only-of-type {\n",
       "        vertical-align: middle;\n",
       "    }\n",
       "\n",
       "    .dataframe tbody tr th {\n",
       "        vertical-align: top;\n",
       "    }\n",
       "\n",
       "    .dataframe thead th {\n",
       "        text-align: right;\n",
       "    }\n",
       "</style>\n",
       "<table border=\"1\" class=\"dataframe\">\n",
       "  <thead>\n",
       "    <tr style=\"text-align: right;\">\n",
       "      <th></th>\n",
       "      <th>id_artists</th>\n",
       "      <th>followers</th>\n",
       "      <th>artists_name</th>\n",
       "      <th>artists_popularity</th>\n",
       "    </tr>\n",
       "  </thead>\n",
       "  <tbody>\n",
       "    <tr>\n",
       "      <th>0</th>\n",
       "      <td>0DheY5irMjBUeLybbCUEZ2</td>\n",
       "      <td>0.00</td>\n",
       "      <td>Armid &amp; Amir Zare Pashai feat. Sara Rouzbehani</td>\n",
       "      <td>0</td>\n",
       "    </tr>\n",
       "    <tr>\n",
       "      <th>1</th>\n",
       "      <td>0DlhY15l3wsrnlfGio2bjU</td>\n",
       "      <td>5.00</td>\n",
       "      <td>ปูนา ภาวิณี</td>\n",
       "      <td>0</td>\n",
       "    </tr>\n",
       "    <tr>\n",
       "      <th>2</th>\n",
       "      <td>0DmRESX2JknGPQyO15yxg7</td>\n",
       "      <td>0.00</td>\n",
       "      <td>Sadaa</td>\n",
       "      <td>0</td>\n",
       "    </tr>\n",
       "    <tr>\n",
       "      <th>3</th>\n",
       "      <td>0DmhnbHjm1qw6NCYPeZNgJ</td>\n",
       "      <td>0.00</td>\n",
       "      <td>Tra'gruda</td>\n",
       "      <td>0</td>\n",
       "    </tr>\n",
       "    <tr>\n",
       "      <th>4</th>\n",
       "      <td>0Dn11fWM7vHQ3rinvWEl4E</td>\n",
       "      <td>2.00</td>\n",
       "      <td>Ioannis Panoutsopoulos</td>\n",
       "      <td>0</td>\n",
       "    </tr>\n",
       "  </tbody>\n",
       "</table>\n",
       "</div>"
      ],
      "text/plain": [
       "               id_artists  followers  \\\n",
       "0  0DheY5irMjBUeLybbCUEZ2       0.00   \n",
       "1  0DlhY15l3wsrnlfGio2bjU       5.00   \n",
       "2  0DmRESX2JknGPQyO15yxg7       0.00   \n",
       "3  0DmhnbHjm1qw6NCYPeZNgJ       0.00   \n",
       "4  0Dn11fWM7vHQ3rinvWEl4E       2.00   \n",
       "\n",
       "                                     artists_name  artists_popularity  \n",
       "0  Armid & Amir Zare Pashai feat. Sara Rouzbehani                   0  \n",
       "1                                     ปูนา ภาวิณี                   0  \n",
       "2                                           Sadaa                   0  \n",
       "3                                       Tra'gruda                   0  \n",
       "4                          Ioannis Panoutsopoulos                   0  "
      ]
     },
     "execution_count": 491,
     "metadata": {},
     "output_type": "execute_result"
    }
   ],
   "source": [
    "artists.head()"
   ]
  },
  {
   "cell_type": "code",
   "execution_count": 492,
   "id": "d57e51ea",
   "metadata": {},
   "outputs": [
    {
     "data": {
      "text/html": [
       "<div>\n",
       "<style scoped>\n",
       "    .dataframe tbody tr th:only-of-type {\n",
       "        vertical-align: middle;\n",
       "    }\n",
       "\n",
       "    .dataframe tbody tr th {\n",
       "        vertical-align: top;\n",
       "    }\n",
       "\n",
       "    .dataframe thead th {\n",
       "        text-align: right;\n",
       "    }\n",
       "</style>\n",
       "<table border=\"1\" class=\"dataframe\">\n",
       "  <thead>\n",
       "    <tr style=\"text-align: right;\">\n",
       "      <th></th>\n",
       "      <th>track_popularity</th>\n",
       "      <th>duration_ms</th>\n",
       "      <th>artists</th>\n",
       "      <th>danceability</th>\n",
       "      <th>energy</th>\n",
       "      <th>key</th>\n",
       "      <th>loudness</th>\n",
       "      <th>mode</th>\n",
       "      <th>speechiness</th>\n",
       "      <th>acousticness</th>\n",
       "      <th>instrumentalness</th>\n",
       "      <th>liveness</th>\n",
       "      <th>valence</th>\n",
       "      <th>tempo</th>\n",
       "      <th>time_signature</th>\n",
       "      <th>followers</th>\n",
       "      <th>artists_name</th>\n",
       "      <th>artists_popularity</th>\n",
       "    </tr>\n",
       "  </thead>\n",
       "  <tbody>\n",
       "    <tr>\n",
       "      <th>0</th>\n",
       "      <td>6</td>\n",
       "      <td>126903</td>\n",
       "      <td>['Uli']</td>\n",
       "      <td>0.65</td>\n",
       "      <td>0.45</td>\n",
       "      <td>0</td>\n",
       "      <td>-13.34</td>\n",
       "      <td>1</td>\n",
       "      <td>0.45</td>\n",
       "      <td>0.67</td>\n",
       "      <td>0.74</td>\n",
       "      <td>0.15</td>\n",
       "      <td>0.13</td>\n",
       "      <td>104.85</td>\n",
       "      <td>3</td>\n",
       "      <td>91.00</td>\n",
       "      <td>Uli</td>\n",
       "      <td>4.00</td>\n",
       "    </tr>\n",
       "    <tr>\n",
       "      <th>1</th>\n",
       "      <td>0</td>\n",
       "      <td>98200</td>\n",
       "      <td>['Fernando Pessoa']</td>\n",
       "      <td>0.69</td>\n",
       "      <td>0.26</td>\n",
       "      <td>0</td>\n",
       "      <td>-22.14</td>\n",
       "      <td>1</td>\n",
       "      <td>0.96</td>\n",
       "      <td>0.80</td>\n",
       "      <td>0.00</td>\n",
       "      <td>0.15</td>\n",
       "      <td>0.66</td>\n",
       "      <td>102.01</td>\n",
       "      <td>1</td>\n",
       "      <td>3.00</td>\n",
       "      <td>Fernando Pessoa</td>\n",
       "      <td>0.00</td>\n",
       "    </tr>\n",
       "    <tr>\n",
       "      <th>2</th>\n",
       "      <td>0</td>\n",
       "      <td>181640</td>\n",
       "      <td>['Ignacio Corsini']</td>\n",
       "      <td>0.43</td>\n",
       "      <td>0.18</td>\n",
       "      <td>1</td>\n",
       "      <td>-21.18</td>\n",
       "      <td>1</td>\n",
       "      <td>0.05</td>\n",
       "      <td>0.99</td>\n",
       "      <td>0.02</td>\n",
       "      <td>0.21</td>\n",
       "      <td>0.46</td>\n",
       "      <td>130.42</td>\n",
       "      <td>5</td>\n",
       "      <td>3528.00</td>\n",
       "      <td>Ignacio Corsini</td>\n",
       "      <td>23.00</td>\n",
       "    </tr>\n",
       "    <tr>\n",
       "      <th>3</th>\n",
       "      <td>0</td>\n",
       "      <td>176907</td>\n",
       "      <td>['Ignacio Corsini']</td>\n",
       "      <td>0.32</td>\n",
       "      <td>0.09</td>\n",
       "      <td>7</td>\n",
       "      <td>-27.96</td>\n",
       "      <td>1</td>\n",
       "      <td>0.05</td>\n",
       "      <td>0.99</td>\n",
       "      <td>0.92</td>\n",
       "      <td>0.10</td>\n",
       "      <td>0.40</td>\n",
       "      <td>169.98</td>\n",
       "      <td>3</td>\n",
       "      <td>3528.00</td>\n",
       "      <td>Ignacio Corsini</td>\n",
       "      <td>23.00</td>\n",
       "    </tr>\n",
       "    <tr>\n",
       "      <th>4</th>\n",
       "      <td>0</td>\n",
       "      <td>163080</td>\n",
       "      <td>['Dick Haymes']</td>\n",
       "      <td>0.40</td>\n",
       "      <td>0.16</td>\n",
       "      <td>3</td>\n",
       "      <td>-16.90</td>\n",
       "      <td>0</td>\n",
       "      <td>0.04</td>\n",
       "      <td>0.99</td>\n",
       "      <td>0.13</td>\n",
       "      <td>0.31</td>\n",
       "      <td>0.20</td>\n",
       "      <td>103.22</td>\n",
       "      <td>4</td>\n",
       "      <td>11327.00</td>\n",
       "      <td>Dick Haymes</td>\n",
       "      <td>35.00</td>\n",
       "    </tr>\n",
       "  </tbody>\n",
       "</table>\n",
       "</div>"
      ],
      "text/plain": [
       "   track_popularity  duration_ms              artists  danceability  energy  \\\n",
       "0                 6       126903              ['Uli']          0.65    0.45   \n",
       "1                 0        98200  ['Fernando Pessoa']          0.69    0.26   \n",
       "2                 0       181640  ['Ignacio Corsini']          0.43    0.18   \n",
       "3                 0       176907  ['Ignacio Corsini']          0.32    0.09   \n",
       "4                 0       163080      ['Dick Haymes']          0.40    0.16   \n",
       "\n",
       "   key  loudness  mode  speechiness  acousticness  instrumentalness  liveness  \\\n",
       "0    0    -13.34     1         0.45          0.67              0.74      0.15   \n",
       "1    0    -22.14     1         0.96          0.80              0.00      0.15   \n",
       "2    1    -21.18     1         0.05          0.99              0.02      0.21   \n",
       "3    7    -27.96     1         0.05          0.99              0.92      0.10   \n",
       "4    3    -16.90     0         0.04          0.99              0.13      0.31   \n",
       "\n",
       "   valence  tempo  time_signature  followers     artists_name  \\\n",
       "0     0.13 104.85               3      91.00              Uli   \n",
       "1     0.66 102.01               1       3.00  Fernando Pessoa   \n",
       "2     0.46 130.42               5    3528.00  Ignacio Corsini   \n",
       "3     0.40 169.98               3    3528.00  Ignacio Corsini   \n",
       "4     0.20 103.22               4   11327.00      Dick Haymes   \n",
       "\n",
       "   artists_popularity  \n",
       "0                4.00  \n",
       "1                0.00  \n",
       "2               23.00  \n",
       "3               23.00  \n",
       "4               35.00  "
      ]
     },
     "execution_count": 492,
     "metadata": {},
     "output_type": "execute_result"
    }
   ],
   "source": [
    "df_merged.head()"
   ]
  },
  {
   "cell_type": "code",
   "execution_count": 493,
   "id": "9cdbfd42",
   "metadata": {},
   "outputs": [
    {
     "data": {
      "text/plain": [
       "track_popularity          0\n",
       "duration_ms               0\n",
       "artists                   0\n",
       "danceability              0\n",
       "energy                    0\n",
       "key                       0\n",
       "loudness                  0\n",
       "mode                      0\n",
       "speechiness               0\n",
       "acousticness              0\n",
       "instrumentalness          0\n",
       "liveness                  0\n",
       "valence                   0\n",
       "tempo                     0\n",
       "time_signature            0\n",
       "followers             12416\n",
       "artists_name          12415\n",
       "artists_popularity    12415\n",
       "dtype: int64"
      ]
     },
     "execution_count": 493,
     "metadata": {},
     "output_type": "execute_result"
    }
   ],
   "source": [
    "df_merged.isna().sum()"
   ]
  },
  {
   "cell_type": "code",
   "execution_count": 494,
   "id": "b9498b96",
   "metadata": {},
   "outputs": [
    {
     "data": {
      "text/plain": [
       "(586672, 18)"
      ]
     },
     "execution_count": 494,
     "metadata": {},
     "output_type": "execute_result"
    }
   ],
   "source": [
    "df_merged.shape"
   ]
  },
  {
   "cell_type": "code",
   "execution_count": 495,
   "id": "4a9322bd",
   "metadata": {},
   "outputs": [],
   "source": [
    "df_merged.dropna(subset=['artists_name'], inplace=True)"
   ]
  },
  {
   "cell_type": "code",
   "execution_count": 496,
   "id": "fb3561ea",
   "metadata": {},
   "outputs": [
    {
     "data": {
      "text/plain": [
       "track_popularity      0\n",
       "duration_ms           0\n",
       "artists               0\n",
       "danceability          0\n",
       "energy                0\n",
       "key                   0\n",
       "loudness              0\n",
       "mode                  0\n",
       "speechiness           0\n",
       "acousticness          0\n",
       "instrumentalness      0\n",
       "liveness              0\n",
       "valence               0\n",
       "tempo                 0\n",
       "time_signature        0\n",
       "followers             1\n",
       "artists_name          0\n",
       "artists_popularity    0\n",
       "dtype: int64"
      ]
     },
     "execution_count": 496,
     "metadata": {},
     "output_type": "execute_result"
    }
   ],
   "source": [
    "df_merged.isna().sum()"
   ]
  },
  {
   "cell_type": "code",
   "execution_count": 497,
   "id": "227066b7",
   "metadata": {},
   "outputs": [
    {
     "data": {
      "text/plain": [
       "(574257, 18)"
      ]
     },
     "execution_count": 497,
     "metadata": {},
     "output_type": "execute_result"
    }
   ],
   "source": [
    "df_merged.shape"
   ]
  },
  {
   "cell_type": "code",
   "execution_count": 498,
   "id": "8056ec96",
   "metadata": {},
   "outputs": [],
   "source": [
    "df_merged.dropna(subset=['followers'], inplace=True)"
   ]
  },
  {
   "cell_type": "code",
   "execution_count": 499,
   "id": "6f3550ca",
   "metadata": {},
   "outputs": [
    {
     "data": {
      "text/plain": [
       "track_popularity      0\n",
       "duration_ms           0\n",
       "artists               0\n",
       "danceability          0\n",
       "energy                0\n",
       "key                   0\n",
       "loudness              0\n",
       "mode                  0\n",
       "speechiness           0\n",
       "acousticness          0\n",
       "instrumentalness      0\n",
       "liveness              0\n",
       "valence               0\n",
       "tempo                 0\n",
       "time_signature        0\n",
       "followers             0\n",
       "artists_name          0\n",
       "artists_popularity    0\n",
       "dtype: int64"
      ]
     },
     "execution_count": 499,
     "metadata": {},
     "output_type": "execute_result"
    }
   ],
   "source": [
    "df_merged.isna().sum()"
   ]
  },
  {
   "cell_type": "code",
   "execution_count": 500,
   "id": "1c6d2b54",
   "metadata": {},
   "outputs": [
    {
     "data": {
      "text/plain": [
       "<Axes: xlabel='track_popularity'>"
      ]
     },
     "execution_count": 500,
     "metadata": {},
     "output_type": "execute_result"
    },
    {
     "data": {
      "image/png": "[encoded data removed]",
      "text/plain": [
       "<Figure size 640x480 with 1 Axes>"
      ]
     },
     "metadata": {},
     "output_type": "display_data"
    }
   ],
   "source": [
    "sns.boxplot(x=df_merged['track_popularity'])"
   ]
  },
  {
   "cell_type": "code",
   "execution_count": 501,
   "id": "048474ae",
   "metadata": {},
   "outputs": [],
   "source": [
    "#removing outliers\n",
    "# removing outliers from speechiness\n",
    "# q1 = df_merged['track_popularity'].quantile(0.25)\n",
    "# q3 = df_merged['track_popularity'].quantile(0.75)\n",
    "# iqr = q3 - q1\n",
    "\n",
    "\n",
    "# lower_bound = q1 - (1.5 * iqr)\n",
    "# upper_bound = q3 + (1.5 * iqr)\n",
    "#lower_bound, upper_bound"
   ]
  },
  {
   "cell_type": "code",
   "execution_count": 502,
   "id": "699657be",
   "metadata": {},
   "outputs": [],
   "source": [
    "lower_bound = max(lower_bound, 0)\n",
    "df_merged = df_merged[(df_merged['track_popularity'] >= lower_bound) & (df_merged['track_popularity'] <= upper_bound)]"
   ]
  },
  {
   "cell_type": "code",
   "execution_count": 503,
   "id": "aa9a79fd",
   "metadata": {},
   "outputs": [
    {
     "data": {
      "text/plain": [
       "<Axes: xlabel='track_popularity'>"
      ]
     },
     "execution_count": 503,
     "metadata": {},
     "output_type": "execute_result"
    },
    {
     "data": {
      "image/png": "[encoded data removed]",
      "text/plain": [
       "<Figure size 640x480 with 1 Axes>"
      ]
     },
     "metadata": {},
     "output_type": "display_data"
    }
   ],
   "source": [
    "sns.boxplot(x=df_merged['track_popularity'])"
   ]
  },
  {
   "cell_type": "code",
   "execution_count": 504,
   "id": "c91d8582",
   "metadata": {},
   "outputs": [],
   "source": [
    "df_merged.drop(['artists'], inplace=True, axis=1)"
   ]
  },
  {
   "cell_type": "code",
   "execution_count": 505,
   "id": "426dcec4",
   "metadata": {},
   "outputs": [
    {
     "name": "stdout",
     "output_type": "stream",
     "text": [
      "<class 'pandas.core.frame.DataFrame'>\n",
      "Index: 467371 entries, 149 to 586671\n",
      "Data columns (total 17 columns):\n",
      " #   Column              Non-Null Count   Dtype  \n",
      "---  ------              --------------   -----  \n",
      " 0   track_popularity    467371 non-null  int64  \n",
      " 1   duration_ms         467371 non-null  int64  \n",
      " 2   danceability        467371 non-null  float64\n",
      " 3   energy              467371 non-null  float64\n",
      " 4   key                 467371 non-null  int64  \n",
      " 5   loudness            467371 non-null  float64\n",
      " 6   mode                467371 non-null  int64  \n",
      " 7   speechiness         467371 non-null  float64\n",
      " 8   acousticness        467371 non-null  float64\n",
      " 9   instrumentalness    467371 non-null  float64\n",
      " 10  liveness            467371 non-null  float64\n",
      " 11  valence             467371 non-null  float64\n",
      " 12  tempo               467371 non-null  float64\n",
      " 13  time_signature      467371 non-null  int64  \n",
      " 14  followers           467371 non-null  float64\n",
      " 15  artists_name        467371 non-null  object \n",
      " 16  artists_popularity  467371 non-null  float64\n",
      "dtypes: float64(11), int64(5), object(1)\n",
      "memory usage: 64.2+ MB\n"
     ]
    }
   ],
   "source": [
    "df_merged.info()"
   ]
  },
  {
   "cell_type": "code",
   "execution_count": 506,
   "id": "d34f9577",
   "metadata": {},
   "outputs": [
    {
     "data": {
      "text/plain": [
       "<Axes: xlabel='danceability'>"
      ]
     },
     "execution_count": 506,
     "metadata": {},
     "output_type": "execute_result"
    },
    {
     "data": {
      "image/png": "[encoded data removed]",
      "text/plain": [
       "<Figure size 640x480 with 1 Axes>"
      ]
     },
     "metadata": {},
     "output_type": "display_data"
    }
   ],
   "source": [
    "sns.boxplot(x=df_merged['danceability'])"
   ]
  },
  {
   "cell_type": "code",
   "execution_count": 507,
   "id": "4a48e5b7",
   "metadata": {},
   "outputs": [
    {
     "data": {
      "text/plain": [
       "(0.12700000000000017, 1.0309999999999997)"
      ]
     },
     "execution_count": 507,
     "metadata": {},
     "output_type": "execute_result"
    }
   ],
   "source": [
    "#removing outliers\n",
    "# removing outliers from speechiness\n",
    "q1 = df_merged['danceability'].quantile(0.25)\n",
    "q3 = df_merged['danceability'].quantile(0.75)\n",
    "iqr = q3 - q1\n",
    "\n",
    "\n",
    "lower_bound = q1 - (1.5 * iqr)\n",
    "upper_bound = q3 + (1.5 * iqr)\n",
    "lower_bound, upper_bound"
   ]
  },
  {
   "cell_type": "code",
   "execution_count": 508,
   "id": "7713c5c3",
   "metadata": {},
   "outputs": [],
   "source": [
    "lower_bound = max(lower_bound, 0)\n",
    "df_merged = df_merged[(df_merged['danceability'] >= lower_bound) & (df_merged['danceability'] <= upper_bound)]"
   ]
  },
  {
   "cell_type": "code",
   "execution_count": 509,
   "id": "a7c01b78",
   "metadata": {},
   "outputs": [
    {
     "data": {
      "text/plain": [
       "<Axes: xlabel='loudness'>"
      ]
     },
     "execution_count": 509,
     "metadata": {},
     "output_type": "execute_result"
    },
    {
     "data": {
      "image/png": "[encoded data removed]",
      "text/plain": [
       "<Figure size 640x480 with 1 Axes>"
      ]
     },
     "metadata": {},
     "output_type": "display_data"
    }
   ],
   "source": [
    "sns.boxplot(x=df_merged['loudness'])"
   ]
  },
  {
   "cell_type": "code",
   "execution_count": 510,
   "id": "16474f8a",
   "metadata": {},
   "outputs": [
    {
     "data": {
      "text/plain": [
       "(-20.998, 2.6900000000000013)"
      ]
     },
     "execution_count": 510,
     "metadata": {},
     "output_type": "execute_result"
    }
   ],
   "source": [
    "#removing outliers\n",
    "# removing outliers from loudness\n",
    "q1 = df_merged['loudness'].quantile(0.25)\n",
    "q3 = df_merged['loudness'].quantile(0.75)\n",
    "iqr = q3 - q1\n",
    "\n",
    "\n",
    "lower_bound = q1 - (1.5 * iqr)\n",
    "upper_bound = q3 + (1.5 * iqr)\n",
    "lower_bound, upper_bound"
   ]
  },
  {
   "cell_type": "code",
   "execution_count": 511,
   "id": "e9618033",
   "metadata": {},
   "outputs": [
    {
     "data": {
      "image/png": "[encoded data removed]",
      "text/plain": [
       "<Figure size 800x500 with 1 Axes>"
      ]
     },
     "metadata": {},
     "output_type": "display_data"
    }
   ],
   "source": [
    "#checking data is sckewed or not\n",
    "plt.figure(figsize=(8, 5))\n",
    "sns.histplot(df_merged['loudness'], bins=30, kde=True, color='blue')\n",
    "plt.title('Histogram of column_name')\n",
    "plt.show()"
   ]
  },
  {
   "cell_type": "code",
   "execution_count": 512,
   "id": "3d91c3fb",
   "metadata": {},
   "outputs": [],
   "source": [
    "df_merged = df_merged[(df_merged['loudness'] >= lower_bound) & (df_merged['loudness'] <= upper_bound)]"
   ]
  },
  {
   "cell_type": "code",
   "execution_count": 513,
   "id": "9ed04f20",
   "metadata": {},
   "outputs": [
    {
     "data": {
      "text/plain": [
       "<Axes: xlabel='loudness'>"
      ]
     },
     "execution_count": 513,
     "metadata": {},
     "output_type": "execute_result"
    },
    {
     "data": {
      "image/png": "[encoded data removed]",
      "text/plain": [
       "<Figure size 640x480 with 1 Axes>"
      ]
     },
     "metadata": {},
     "output_type": "display_data"
    }
   ],
   "source": [
    "sns.boxplot(x=df_merged['loudness'])"
   ]
  },
  {
   "cell_type": "code",
   "execution_count": 514,
   "id": "909ac02c",
   "metadata": {},
   "outputs": [
    {
     "data": {
      "text/plain": [
       "<Axes: xlabel='speechiness'>"
      ]
     },
     "execution_count": 514,
     "metadata": {},
     "output_type": "execute_result"
    },
    {
     "data": {
      "image/png": "[encoded data removed]",
      "text/plain": [
       "<Figure size 640x480 with 1 Axes>"
      ]
     },
     "metadata": {},
     "output_type": "display_data"
    }
   ],
   "source": [
    "df_merged['speechiness'].describe()\n",
    "sns.boxplot(x=df_merged['speechiness'])"
   ]
  },
  {
   "cell_type": "code",
   "execution_count": 515,
   "id": "a48cf7a1",
   "metadata": {},
   "outputs": [
    {
     "data": {
      "text/plain": [
       "(-0.008800000000000002, 0.1169)"
      ]
     },
     "execution_count": 515,
     "metadata": {},
     "output_type": "execute_result"
    }
   ],
   "source": [
    "#removing outliers\n",
    "# removing outliers from speechiness\n",
    "q1 = df_merged['speechiness'].quantile(0.25)\n",
    "q3 = df_merged['speechiness'].quantile(0.75)\n",
    "iqr = q3 - q1\n",
    "\n",
    "\n",
    "lower_bound = q1 - (1 * iqr)\n",
    "upper_bound = q3 + (1 * iqr)\n",
    "lower_bound, upper_bound"
   ]
  },
  {
   "cell_type": "code",
   "execution_count": 516,
   "id": "5a724e9d",
   "metadata": {},
   "outputs": [],
   "source": [
    "lower_bound = max(lower_bound, 0)\n",
    "df_merged = df_merged[(df_merged['speechiness'] >= lower_bound) & (df_merged['speechiness'] <= upper_bound)]"
   ]
  },
  {
   "cell_type": "code",
   "execution_count": 517,
   "id": "3912a949",
   "metadata": {},
   "outputs": [
    {
     "data": {
      "text/plain": [
       "(380265, 17)"
      ]
     },
     "execution_count": 517,
     "metadata": {},
     "output_type": "execute_result"
    }
   ],
   "source": [
    "df_merged.shape"
   ]
  },
  {
   "cell_type": "code",
   "execution_count": 518,
   "id": "fbea0096",
   "metadata": {},
   "outputs": [
    {
     "name": "stdout",
     "output_type": "stream",
     "text": [
      "<class 'pandas.core.frame.DataFrame'>\n",
      "Index: 380265 entries, 149 to 586671\n",
      "Data columns (total 17 columns):\n",
      " #   Column              Non-Null Count   Dtype  \n",
      "---  ------              --------------   -----  \n",
      " 0   track_popularity    380265 non-null  int64  \n",
      " 1   duration_ms         380265 non-null  int64  \n",
      " 2   danceability        380265 non-null  float64\n",
      " 3   energy              380265 non-null  float64\n",
      " 4   key                 380265 non-null  int64  \n",
      " 5   loudness            380265 non-null  float64\n",
      " 6   mode                380265 non-null  int64  \n",
      " 7   speechiness         380265 non-null  float64\n",
      " 8   acousticness        380265 non-null  float64\n",
      " 9   instrumentalness    380265 non-null  float64\n",
      " 10  liveness            380265 non-null  float64\n",
      " 11  valence             380265 non-null  float64\n",
      " 12  tempo               380265 non-null  float64\n",
      " 13  time_signature      380265 non-null  int64  \n",
      " 14  followers           380265 non-null  float64\n",
      " 15  artists_name        380265 non-null  object \n",
      " 16  artists_popularity  380265 non-null  float64\n",
      "dtypes: float64(11), int64(5), object(1)\n",
      "memory usage: 52.2+ MB\n"
     ]
    }
   ],
   "source": [
    "df_merged.info()"
   ]
  },
  {
   "cell_type": "code",
   "execution_count": 519,
   "id": "e14eafda",
   "metadata": {},
   "outputs": [
    {
     "data": {
      "text/plain": [
       "<Axes: xlabel='instrumentalness'>"
      ]
     },
     "execution_count": 519,
     "metadata": {},
     "output_type": "execute_result"
    },
    {
     "data": {
      "image/png": "[encoded data removed]",
      "text/plain": [
       "<Figure size 640x480 with 1 Axes>"
      ]
     },
     "metadata": {},
     "output_type": "display_data"
    }
   ],
   "source": [
    "sns.boxplot(x=df_merged['instrumentalness'])"
   ]
  },
  {
   "cell_type": "code",
   "execution_count": 520,
   "id": "dc3132f6",
   "metadata": {},
   "outputs": [
    {
     "data": {
      "text/plain": [
       "(-0.004425, 0.007375)"
      ]
     },
     "execution_count": 520,
     "metadata": {},
     "output_type": "execute_result"
    }
   ],
   "source": [
    "#removing outliers\n",
    "# removing outliers from instrumentalness\n",
    "q1 = df_merged['instrumentalness'].quantile(0.25)\n",
    "q3 = df_merged['instrumentalness'].quantile(0.75)\n",
    "iqr = q3 - q1\n",
    "\n",
    "\n",
    "lower_bound = q1 - (1.5 * iqr)\n",
    "upper_bound = q3 + (1.5 * iqr)\n",
    "lower_bound, upper_bound"
   ]
  },
  {
   "cell_type": "code",
   "execution_count": 521,
   "id": "a8268979",
   "metadata": {},
   "outputs": [
    {
     "data": {
      "image/png": "[encoded data removed]",
      "text/plain": [
       "<Figure size 800x500 with 1 Axes>"
      ]
     },
     "metadata": {},
     "output_type": "display_data"
    }
   ],
   "source": [
    "# data is rightly skewed\n",
    "plt.figure(figsize=(8, 5))\n",
    "sns.histplot(df_merged['instrumentalness'], bins=30, kde=True, color='blue')\n",
    "plt.title('Histogram of column_name')\n",
    "plt.show()"
   ]
  },
  {
   "cell_type": "code",
   "execution_count": 522,
   "id": "9436df09",
   "metadata": {},
   "outputs": [],
   "source": [
    "lower_bound = max(lower_bound, 0)\n",
    "df_merged = df_merged[(df_merged['instrumentalness'] >= lower_bound) & (df_merged['instrumentalness'] <= upper_bound)]"
   ]
  },
  {
   "cell_type": "code",
   "execution_count": 523,
   "id": "fd94383a",
   "metadata": {},
   "outputs": [
    {
     "data": {
      "text/plain": [
       "(299302, 17)"
      ]
     },
     "execution_count": 523,
     "metadata": {},
     "output_type": "execute_result"
    }
   ],
   "source": [
    "df_merged.shape"
   ]
  },
  {
   "cell_type": "code",
   "execution_count": 524,
   "id": "5fa23daf",
   "metadata": {},
   "outputs": [
    {
     "name": "stdout",
     "output_type": "stream",
     "text": [
      "<class 'pandas.core.frame.DataFrame'>\n",
      "Index: 299302 entries, 149 to 586671\n",
      "Data columns (total 17 columns):\n",
      " #   Column              Non-Null Count   Dtype  \n",
      "---  ------              --------------   -----  \n",
      " 0   track_popularity    299302 non-null  int64  \n",
      " 1   duration_ms         299302 non-null  int64  \n",
      " 2   danceability        299302 non-null  float64\n",
      " 3   energy              299302 non-null  float64\n",
      " 4   key                 299302 non-null  int64  \n",
      " 5   loudness            299302 non-null  float64\n",
      " 6   mode                299302 non-null  int64  \n",
      " 7   speechiness         299302 non-null  float64\n",
      " 8   acousticness        299302 non-null  float64\n",
      " 9   instrumentalness    299302 non-null  float64\n",
      " 10  liveness            299302 non-null  float64\n",
      " 11  valence             299302 non-null  float64\n",
      " 12  tempo               299302 non-null  float64\n",
      " 13  time_signature      299302 non-null  int64  \n",
      " 14  followers           299302 non-null  float64\n",
      " 15  artists_name        299302 non-null  object \n",
      " 16  artists_popularity  299302 non-null  float64\n",
      "dtypes: float64(11), int64(5), object(1)\n",
      "memory usage: 41.1+ MB\n"
     ]
    }
   ],
   "source": [
    "df_merged.info()"
   ]
  },
  {
   "cell_type": "code",
   "execution_count": 525,
   "id": "b1d64fae",
   "metadata": {},
   "outputs": [
    {
     "data": {
      "text/plain": [
       "<Axes: xlabel='liveness'>"
      ]
     },
     "execution_count": 525,
     "metadata": {},
     "output_type": "execute_result"
    },
    {
     "data": {
      "image/png": "[encoded data removed]",
      "text/plain": [
       "<Figure size 640x480 with 1 Axes>"
      ]
     },
     "metadata": {},
     "output_type": "display_data"
    }
   ],
   "source": [
    "sns.boxplot(x=df_merged['liveness'])"
   ]
  },
  {
   "cell_type": "code",
   "execution_count": 526,
   "id": "6eaa322a",
   "metadata": {},
   "outputs": [
    {
     "data": {
      "text/plain": [
       "(-0.06720000000000002, 0.42060000000000003)"
      ]
     },
     "execution_count": 526,
     "metadata": {},
     "output_type": "execute_result"
    }
   ],
   "source": [
    "#removing outliers\n",
    "# removing outliers from instrumentalness\n",
    "q1 = df_merged['liveness'].quantile(0.25)\n",
    "q3 = df_merged['liveness'].quantile(0.75)\n",
    "iqr = q3 - q1\n",
    "\n",
    "\n",
    "lower_bound = q1 - (1 * iqr)\n",
    "upper_bound = q3 + (1* iqr)\n",
    "lower_bound, upper_bound"
   ]
  },
  {
   "cell_type": "code",
   "execution_count": 527,
   "id": "26e27f0a",
   "metadata": {},
   "outputs": [],
   "source": [
    "lower_bound = max(lower_bound, 0)\n",
    "df_merged = df_merged[(df_merged['liveness'] >= lower_bound) & (df_merged['liveness'] <= upper_bound)]"
   ]
  },
  {
   "cell_type": "code",
   "execution_count": 528,
   "id": "293769bc",
   "metadata": {},
   "outputs": [
    {
     "data": {
      "text/plain": [
       "(274915, 17)"
      ]
     },
     "execution_count": 528,
     "metadata": {},
     "output_type": "execute_result"
    }
   ],
   "source": [
    "df_merged.shape"
   ]
  },
  {
   "cell_type": "code",
   "execution_count": 529,
   "id": "6da74c29",
   "metadata": {},
   "outputs": [],
   "source": [
    "from sklearn.preprocessing import LabelEncoder\n",
    "label_encoder = LabelEncoder()\n",
    "\n",
    "# Fit and transform the categorical column\n",
    "df_merged['artists_name'] = label_encoder.fit_transform(df_merged['artists_name'])"
   ]
  },
  {
   "cell_type": "code",
   "execution_count": 530,
   "id": "926b9286",
   "metadata": {},
   "outputs": [
    {
     "name": "stdout",
     "output_type": "stream",
     "text": [
      "<class 'pandas.core.frame.DataFrame'>\n",
      "Index: 274915 entries, 149 to 586671\n",
      "Data columns (total 17 columns):\n",
      " #   Column              Non-Null Count   Dtype  \n",
      "---  ------              --------------   -----  \n",
      " 0   track_popularity    274915 non-null  int64  \n",
      " 1   duration_ms         274915 non-null  int64  \n",
      " 2   danceability        274915 non-null  float64\n",
      " 3   energy              274915 non-null  float64\n",
      " 4   key                 274915 non-null  int64  \n",
      " 5   loudness            274915 non-null  float64\n",
      " 6   mode                274915 non-null  int64  \n",
      " 7   speechiness         274915 non-null  float64\n",
      " 8   acousticness        274915 non-null  float64\n",
      " 9   instrumentalness    274915 non-null  float64\n",
      " 10  liveness            274915 non-null  float64\n",
      " 11  valence             274915 non-null  float64\n",
      " 12  tempo               274915 non-null  float64\n",
      " 13  time_signature      274915 non-null  int64  \n",
      " 14  followers           274915 non-null  float64\n",
      " 15  artists_name        274915 non-null  int64  \n",
      " 16  artists_popularity  274915 non-null  float64\n",
      "dtypes: float64(11), int64(6)\n",
      "memory usage: 37.8 MB\n"
     ]
    }
   ],
   "source": [
    "df_merged.info()"
   ]
  },
  {
   "cell_type": "code",
   "execution_count": 531,
   "id": "488f6f94",
   "metadata": {},
   "outputs": [
    {
     "data": {
      "text/plain": [
       "<Axes: xlabel='liveness'>"
      ]
     },
     "execution_count": 531,
     "metadata": {},
     "output_type": "execute_result"
    },
    {
     "data": {
      "image/png": "[encoded data removed]",
      "text/plain": [
       "<Figure size 640x480 with 1 Axes>"
      ]
     },
     "metadata": {},
     "output_type": "display_data"
    }
   ],
   "source": [
    "sns.boxplot(x=df_merged['liveness'])"
   ]
  },
  {
   "cell_type": "code",
   "execution_count": 532,
   "id": "661a7304",
   "metadata": {},
   "outputs": [
    {
     "data": {
      "text/plain": [
       "<Axes: xlabel='valence'>"
      ]
     },
     "execution_count": 532,
     "metadata": {},
     "output_type": "execute_result"
    },
    {
     "data": {
      "image/png": "[encoded data removed]",
      "text/plain": [
       "<Figure size 640x480 with 1 Axes>"
      ]
     },
     "metadata": {},
     "output_type": "display_data"
    }
   ],
   "source": [
    "sns.boxplot(x=df_merged['valence'])"
   ]
  },
  {
   "cell_type": "code",
   "execution_count": 533,
   "id": "7d0ce36c",
   "metadata": {},
   "outputs": [
    {
     "data": {
      "text/plain": [
       "<Axes: xlabel='tempo'>"
      ]
     },
     "execution_count": 533,
     "metadata": {},
     "output_type": "execute_result"
    },
    {
     "data": {
      "image/png": "[encoded data removed]",
      "text/plain": [
       "<Figure size 640x480 with 1 Axes>"
      ]
     },
     "metadata": {},
     "output_type": "display_data"
    }
   ],
   "source": [
    "sns.boxplot(x=df_merged['tempo'])"
   ]
  },
  {
   "cell_type": "code",
   "execution_count": 534,
   "id": "2a7b6145",
   "metadata": {},
   "outputs": [
    {
     "data": {
      "text/plain": [
       "<Axes: xlabel='followers'>"
      ]
     },
     "execution_count": 534,
     "metadata": {},
     "output_type": "execute_result"
    },
    {
     "data": {
      "image/png": "[encoded data removed]",
      "text/plain": [
       "<Figure size 640x480 with 1 Axes>"
      ]
     },
     "metadata": {},
     "output_type": "display_data"
    }
   ],
   "source": [
    "sns.boxplot(x=df_merged['followers'])"
   ]
  },
  {
   "cell_type": "code",
   "execution_count": 535,
   "id": "efebd7d1",
   "metadata": {},
   "outputs": [
    {
     "data": {
      "image/png": "[encoded data removed]",
      "text/plain": [
       "<Figure size 800x500 with 1 Axes>"
      ]
     },
     "metadata": {},
     "output_type": "display_data"
    }
   ],
   "source": [
    "# data is rightly skewed\n",
    "plt.figure(figsize=(8, 5))\n",
    "sns.histplot(df_merged['followers'], bins=30, kde=True, color='blue')\n",
    "plt.title('Histogram of column_name')\n",
    "plt.show()"
   ]
  },
  {
   "cell_type": "code",
   "execution_count": 536,
   "id": "efcbf904",
   "metadata": {},
   "outputs": [
    {
     "data": {
      "text/plain": [
       "(-715297.0, 1500077.0)"
      ]
     },
     "execution_count": 536,
     "metadata": {},
     "output_type": "execute_result"
    }
   ],
   "source": [
    "#removing outliers\n",
    "# removing outliers from instrumentalness\n",
    "q1 = df_merged['followers'].quantile(0.25)\n",
    "q3 = df_merged['followers'].quantile(0.75)\n",
    "iqr = q3 - q1\n",
    "\n",
    "\n",
    "lower_bound = q1 - (1 * iqr)\n",
    "upper_bound = q3 + (1* iqr)\n",
    "lower_bound, upper_bound"
   ]
  },
  {
   "cell_type": "code",
   "execution_count": 537,
   "id": "779c3660",
   "metadata": {},
   "outputs": [],
   "source": [
    "lower_bound = max(lower_bound, 0)\n",
    "df_merged = df_merged[(df_merged['followers'] >= lower_bound) & (df_merged['followers'] <= upper_bound)]"
   ]
  },
  {
   "cell_type": "code",
   "execution_count": 538,
   "id": "0141b5d8",
   "metadata": {},
   "outputs": [
    {
     "data": {
      "text/plain": [
       "<Axes: xlabel='artists_popularity'>"
      ]
     },
     "execution_count": 538,
     "metadata": {},
     "output_type": "execute_result"
    },
    {
     "data": {
      "image/png": "[encoded data removed]",
      "text/plain": [
       "<Figure size 640x480 with 1 Axes>"
      ]
     },
     "metadata": {},
     "output_type": "display_data"
    }
   ],
   "source": [
    "sns.boxplot(x=df_merged['artists_popularity'])"
   ]
  },
  {
   "cell_type": "code",
   "execution_count": 539,
   "id": "156833db",
   "metadata": {},
   "outputs": [
    {
     "data": {
      "text/plain": [
       "(10.0, 90.0)"
      ]
     },
     "execution_count": 539,
     "metadata": {},
     "output_type": "execute_result"
    }
   ],
   "source": [
    "#removing outliers\n",
    "# removing outliers from instrumentalness\n",
    "q1 = df_merged['artists_popularity'].quantile(0.25)\n",
    "q3 = df_merged['artists_popularity'].quantile(0.75)\n",
    "iqr = q3 - q1\n",
    "\n",
    "\n",
    "lower_bound = q1 - (1.5 * iqr)\n",
    "upper_bound = q3 + (1.5 * iqr)\n",
    "lower_bound, upper_bound"
   ]
  },
  {
   "cell_type": "code",
   "execution_count": 540,
   "id": "508f2dd8",
   "metadata": {},
   "outputs": [],
   "source": [
    "df_merged = df_merged[(df_merged['artists_popularity'] >= lower_bound) & (df_merged['artists_popularity'] <  upper_bound)]"
   ]
  },
  {
   "cell_type": "code",
   "execution_count": 569,
   "id": "19451dd5",
   "metadata": {},
   "outputs": [
    {
     "data": {
      "text/plain": [
       "<Axes: xlabel='artists_popularity'>"
      ]
     },
     "execution_count": 569,
     "metadata": {},
     "output_type": "execute_result"
    },
    {
     "data": {
      "image/png": "[encoded data removed]",
      "text/plain": [
       "<Figure size 640x480 with 1 Axes>"
      ]
     },
     "metadata": {},
     "output_type": "display_data"
    }
   ],
   "source": [
    "sns.boxplot(x=df_merged['artists_popularity'])"
   ]
  },
  {
   "cell_type": "code",
   "execution_count": 541,
   "id": "6613c483",
   "metadata": {},
   "outputs": [
    {
     "data": {
      "text/plain": [
       "<Axes: xlabel='mode'>"
      ]
     },
     "execution_count": 541,
     "metadata": {},
     "output_type": "execute_result"
    },
    {
     "data": {
      "image/png": "[encoded data removed]",
      "text/plain": [
       "<Figure size 640x480 with 1 Axes>"
      ]
     },
     "metadata": {},
     "output_type": "display_data"
    }
   ],
   "source": [
    "sns.boxplot(x=df_merged['mode'])"
   ]
  },
  {
   "cell_type": "code",
   "execution_count": 542,
   "id": "3e4c777a",
   "metadata": {
    "scrolled": true
   },
   "outputs": [
    {
     "data": {
      "text/plain": [
       "(229821, 17)"
      ]
     },
     "execution_count": 542,
     "metadata": {},
     "output_type": "execute_result"
    }
   ],
   "source": [
    "df_merged.shape"
   ]
  },
  {
   "cell_type": "code",
   "execution_count": 543,
   "id": "a2e07faa",
   "metadata": {},
   "outputs": [],
   "source": [
    "df_merged.loc[df_merged['track_popularity'] < 50, 'track_popularity'] = 0 \n",
    "df_merged.loc[df_merged['track_popularity'] >= 50, 'track_popularity'] = 1"
   ]
  },
  {
   "cell_type": "code",
   "execution_count": 544,
   "id": "a0f3833e",
   "metadata": {},
   "outputs": [
    {
     "data": {
      "image/png": "[encoded data removed]",
      "text/plain": [
       "<Figure size 640x480 with 1 Axes>"
      ]
     },
     "metadata": {},
     "output_type": "display_data"
    }
   ],
   "source": [
    "popularity_counts = df_merged['track_popularity'].value_counts()\n",
    "labels = ['Less Popular', 'Highly Popular']\n",
    "plt.pie(popularity_counts, labels=labels, autopct='%1.1f%%', startangle=0)\n",
    "plt.title('Distribution of Target Variable')\n",
    "plt.show()"
   ]
  },
  {
   "cell_type": "code",
   "execution_count": 545,
   "id": "686f0d54",
   "metadata": {},
   "outputs": [
    {
     "data": {
      "text/plain": [
       "track_popularity\n",
       "0    201263\n",
       "1     28558\n",
       "Name: count, dtype: int64"
      ]
     },
     "execution_count": 545,
     "metadata": {},
     "output_type": "execute_result"
    }
   ],
   "source": [
    "df_merged['track_popularity'].value_counts()"
   ]
  },
  {
   "cell_type": "code",
   "execution_count": 546,
   "id": "8bd108b6",
   "metadata": {},
   "outputs": [],
   "source": [
    "# df_merged.head()"
   ]
  },
  {
   "cell_type": "markdown",
   "id": "ab7a18a3",
   "metadata": {},
   "source": [
    "## Applying Random Forest"
   ]
  },
  {
   "cell_type": "code",
   "execution_count": 547,
   "id": "9445212b",
   "metadata": {},
   "outputs": [],
   "source": [
    "from sklearn.model_selection import train_test_split\n",
    "from sklearn.ensemble import RandomForestClassifier\n",
    "from sklearn.metrics import classification_report, accuracy_score,  roc_curve, auc,precision_score, recall_score, f1_score\n"
   ]
  },
  {
   "cell_type": "code",
   "execution_count": 548,
   "id": "ac9f9c38",
   "metadata": {},
   "outputs": [],
   "source": [
    "# from imblearn.over_sampling import SMOTE\n",
    "# from imblearn.pipeline import Pipeline"
   ]
  },
  {
   "cell_type": "code",
   "execution_count": 549,
   "id": "37afc491",
   "metadata": {},
   "outputs": [],
   "source": [
    "# X = df_merged.drop(['track_popularity'],axis=1)\n",
    "# y = df_merged['track_popularity']\n",
    "\n",
    "# # Split the data into training and testing sets\n",
    "# X_train, X_test, y_train, y_test = train_test_split(X, y, test_size=0.2, random_state=42)\n",
    "\n",
    "# # Create a SMOTE pipeline with Random Forest Classifier\n",
    "# smote_rf_pipeline = Pipeline([\n",
    "#     ('smote', SMOTE(sampling_strategy='auto', random_state=42)),\n",
    "#     ('rf', RandomForestClassifier(n_estimators=100,random_state=42))\n",
    "# ])\n",
    "\n",
    "# # Fit the SMOTE pipeline on the training data\n",
    "# smote_rf_pipeline.fit(X_train, y_train)\n",
    "\n",
    "# # Make predictions on the test set\n",
    "# y_pred = smote_rf_pipeline.predict(X_test)\n",
    "\n",
    "# # Evaluate the model\n",
    "# print(\"Accuracy:\", accuracy_score(y_test, y_pred))\n",
    "# print(\"\\nClassification Report:\\n\", classification_report(y_test, y_pred))\n",
    "\n",
    "# # Evaluate Random Forest\n",
    "# print(\"\\nRandom Forest:\")\n",
    "# print(\"Precision:\", precision_score(y_test, y_pred))\n",
    "# print(\"Recall:\", recall_score(y_test, y_pred))\n",
    "# print(\"F1 Score:\", f1_score(y_test, y_pred))\n",
    "# print(\"\\nClassification Report:\\n\", classification_report(y_test, y_pred))\n"
   ]
  },
  {
   "cell_type": "code",
   "execution_count": 550,
   "id": "eef90dda",
   "metadata": {},
   "outputs": [],
   "source": [
    "# rf_model = smote_rf_pipeline.named_steps['rf']\n",
    "# feature_importances = rf_model.feature_importances_\n",
    "\n",
    "# # Assuming df_merged is your DataFrame\n",
    "# features = df_merged.drop(['track_popularity'], axis=1).columns\n",
    "\n",
    "# feature_importance_df = pd.DataFrame({\n",
    "#     'Feature': features,\n",
    "#     'Importance': feature_importances\n",
    "# })\n",
    "\n",
    "# # Sort the DataFrame by importance in descending order\n",
    "# feature_importance_df = feature_importance_df.sort_values(by='Importance', ascending=False)\n",
    "\n",
    "# # Plot the feature importances\n",
    "# plt.figure(figsize=(10, 6))\n",
    "# plt.barh(feature_importance_df['Feature'], feature_importance_df['Importance'])\n",
    "# plt.xlabel('Importance')\n",
    "# plt.title('Feature Importances in Random Forest')\n",
    "# plt.show()\n"
   ]
  },
  {
   "cell_type": "code",
   "execution_count": 551,
   "id": "8ffe086a",
   "metadata": {},
   "outputs": [],
   "source": [
    "# fpr, tpr, thresholds = roc_curve(y_test, y_pred)\n",
    "# roc_auc = auc(fpr, tpr)\n",
    "\n",
    "# # Plot ROC curve\n",
    "# plt.figure(figsize=(8, 8))\n",
    "# plt.plot(fpr, tpr, color='darkorange', lw=2, label=f'ROC curve (area = {roc_auc:.2f})')\n",
    "# plt.plot([0, 1], [0, 1], color='navy', lw=2, linestyle='--')\n",
    "# plt.xlabel('False Positive Rate')\n",
    "# plt.ylabel('True Positive Rate')\n",
    "# plt.title('Receiver Operating Characteristic (ROC) Curve')\n",
    "# plt.legend(loc=\"lower right\") \n",
    "# plt.show()"
   ]
  },
  {
   "cell_type": "code",
   "execution_count": 552,
   "id": "3e800956",
   "metadata": {},
   "outputs": [],
   "source": [
    "# pip install -U imbalanced-learn"
   ]
  },
  {
   "cell_type": "code",
   "execution_count": 553,
   "id": "75983b4b",
   "metadata": {},
   "outputs": [],
   "source": [
    "# df_merged.shape"
   ]
  },
  {
   "cell_type": "code",
   "execution_count": 554,
   "id": "05676015",
   "metadata": {},
   "outputs": [],
   "source": [
    "# import pandas as pd\n",
    "# import matplotlib.pyplot as plt\n",
    "# from sklearn.model_selection import train_test_split\n",
    "# from sklearn.linear_model import LogisticRegression\n",
    "# from sklearn.metrics import classification_report, accuracy_score, roc_curve, auc\n",
    "# from imblearn.over_sampling import SMOTE\n",
    "# from imblearn.pipeline import Pipeline\n",
    "\n",
    "\n",
    "# LRX = df_merged.drop(['track_popularity'], axis=1)\n",
    "# LRy = df_merged['track_popularity']\n",
    "\n",
    "# # Split the data into training and testing sets\n",
    "# LRX_train, LRX_test, LRy_train, LRy_test = train_test_split(LRX, LRy, test_size=0.2, random_state=42)\n",
    "\n",
    "# # Create a SMOTE pipeline with Logistic Regression\n",
    "# LR_smote_lr_pipeline = Pipeline([\n",
    "#     ('smote', SMOTE(sampling_strategy='auto', random_state=42)),\n",
    "#     ('lr', LogisticRegression(random_state=42))\n",
    "# ])\n",
    "\n",
    "# # Fit the SMOTE pipeline on the training data\n",
    "# smote_lr_pipeline.fit(LRX_train, LRy_train)\n",
    "\n",
    "# # Make predictions on the test set\n",
    "# LRy_pred = smote_lr_pipeline.predict(LRX_test)\n",
    "\n",
    "# # Evaluate the model\n",
    "# print(\"Accuracy:\", accuracy_score(LRy_test, LRy_pred))\n",
    "# print(\"\\nClassification Report:\\n\", classification_report(LRy_test, LRy_pred))\n",
    "# # Evaluate Logistic Regression\n",
    "# print(\"Logistic Regression:\")\n",
    "# print(\"Precision:\", precision_score(LRy_test, LRy_pred))\n",
    "# print(\"Recall:\", recall_score(LRy_test, LRy_pred))\n",
    "# print(\"F1 Score:\", f1_score(LRy_test, LRy_pred))\n",
    "# print(\"\\nClassification Report:\\n\", classification_report(LRy_test, LRy_pred))\n"
   ]
  },
  {
   "cell_type": "code",
   "execution_count": 555,
   "id": "4df7ead9",
   "metadata": {},
   "outputs": [],
   "source": [
    "# # Create ROC curve\n",
    "# LRfpr, LRtpr, thresholds = roc_curve(LRy_test, LRy_pred)\n",
    "# LRroc_auc = auc(LRfpr, LRtpr)\n",
    "\n",
    "# # Plot ROC curve\n",
    "# plt.figure(figsize=(8, 8))\n",
    "# plt.plot(LRfpr, LRtpr, color='darkorange', lw=2, label=f'ROC curve (area = {LRroc_auc:.2f})')\n",
    "# plt.plot([0, 1], [0, 1], color='navy', lw=2, linestyle='--')\n",
    "# plt.xlabel('False Positive Rate')\n",
    "# plt.ylabel('True Positive Rate')\n",
    "# plt.title('Receiver Operating Characteristic (ROC) Curve')\n",
    "# plt.legend(loc=\"lower right\")\n",
    "# plt.show()"
   ]
  },
  {
   "cell_type": "code",
   "execution_count": 556,
   "id": "098bd586",
   "metadata": {},
   "outputs": [
    {
     "data": {
      "text/html": [
       "<div>\n",
       "<style scoped>\n",
       "    .dataframe tbody tr th:only-of-type {\n",
       "        vertical-align: middle;\n",
       "    }\n",
       "\n",
       "    .dataframe tbody tr th {\n",
       "        vertical-align: top;\n",
       "    }\n",
       "\n",
       "    .dataframe thead th {\n",
       "        text-align: right;\n",
       "    }\n",
       "</style>\n",
       "<table border=\"1\" class=\"dataframe\">\n",
       "  <thead>\n",
       "    <tr style=\"text-align: right;\">\n",
       "      <th></th>\n",
       "      <th>track_popularity</th>\n",
       "      <th>duration_ms</th>\n",
       "      <th>danceability</th>\n",
       "      <th>energy</th>\n",
       "      <th>key</th>\n",
       "      <th>loudness</th>\n",
       "      <th>mode</th>\n",
       "      <th>speechiness</th>\n",
       "      <th>acousticness</th>\n",
       "      <th>instrumentalness</th>\n",
       "      <th>liveness</th>\n",
       "      <th>valence</th>\n",
       "      <th>tempo</th>\n",
       "      <th>time_signature</th>\n",
       "      <th>followers</th>\n",
       "      <th>artists_name</th>\n",
       "      <th>artists_popularity</th>\n",
       "    </tr>\n",
       "  </thead>\n",
       "  <tbody>\n",
       "    <tr>\n",
       "      <th>1864</th>\n",
       "      <td>0</td>\n",
       "      <td>183560</td>\n",
       "      <td>0.65</td>\n",
       "      <td>0.09</td>\n",
       "      <td>5</td>\n",
       "      <td>-18.88</td>\n",
       "      <td>1</td>\n",
       "      <td>0.05</td>\n",
       "      <td>0.72</td>\n",
       "      <td>0.00</td>\n",
       "      <td>0.17</td>\n",
       "      <td>0.54</td>\n",
       "      <td>87.22</td>\n",
       "      <td>4</td>\n",
       "      <td>95038.00</td>\n",
       "      <td>11064</td>\n",
       "      <td>49.00</td>\n",
       "    </tr>\n",
       "    <tr>\n",
       "      <th>1957</th>\n",
       "      <td>0</td>\n",
       "      <td>197013</td>\n",
       "      <td>0.66</td>\n",
       "      <td>0.21</td>\n",
       "      <td>7</td>\n",
       "      <td>-18.69</td>\n",
       "      <td>1</td>\n",
       "      <td>0.04</td>\n",
       "      <td>0.87</td>\n",
       "      <td>0.00</td>\n",
       "      <td>0.20</td>\n",
       "      <td>0.59</td>\n",
       "      <td>102.94</td>\n",
       "      <td>4</td>\n",
       "      <td>95038.00</td>\n",
       "      <td>11064</td>\n",
       "      <td>49.00</td>\n",
       "    </tr>\n",
       "    <tr>\n",
       "      <th>8160</th>\n",
       "      <td>0</td>\n",
       "      <td>181240</td>\n",
       "      <td>0.74</td>\n",
       "      <td>0.26</td>\n",
       "      <td>3</td>\n",
       "      <td>-11.81</td>\n",
       "      <td>1</td>\n",
       "      <td>0.04</td>\n",
       "      <td>0.74</td>\n",
       "      <td>0.00</td>\n",
       "      <td>0.15</td>\n",
       "      <td>0.52</td>\n",
       "      <td>112.01</td>\n",
       "      <td>4</td>\n",
       "      <td>1411671.00</td>\n",
       "      <td>4151</td>\n",
       "      <td>70.00</td>\n",
       "    </tr>\n",
       "    <tr>\n",
       "      <th>8162</th>\n",
       "      <td>0</td>\n",
       "      <td>178467</td>\n",
       "      <td>0.67</td>\n",
       "      <td>0.38</td>\n",
       "      <td>3</td>\n",
       "      <td>-11.41</td>\n",
       "      <td>1</td>\n",
       "      <td>0.07</td>\n",
       "      <td>0.73</td>\n",
       "      <td>0.00</td>\n",
       "      <td>0.12</td>\n",
       "      <td>0.84</td>\n",
       "      <td>155.96</td>\n",
       "      <td>4</td>\n",
       "      <td>1411671.00</td>\n",
       "      <td>4151</td>\n",
       "      <td>70.00</td>\n",
       "    </tr>\n",
       "    <tr>\n",
       "      <th>8165</th>\n",
       "      <td>0</td>\n",
       "      <td>176027</td>\n",
       "      <td>0.80</td>\n",
       "      <td>0.49</td>\n",
       "      <td>7</td>\n",
       "      <td>-10.94</td>\n",
       "      <td>1</td>\n",
       "      <td>0.05</td>\n",
       "      <td>0.78</td>\n",
       "      <td>0.00</td>\n",
       "      <td>0.15</td>\n",
       "      <td>0.83</td>\n",
       "      <td>134.57</td>\n",
       "      <td>4</td>\n",
       "      <td>1411671.00</td>\n",
       "      <td>4151</td>\n",
       "      <td>70.00</td>\n",
       "    </tr>\n",
       "    <tr>\n",
       "      <th>...</th>\n",
       "      <td>...</td>\n",
       "      <td>...</td>\n",
       "      <td>...</td>\n",
       "      <td>...</td>\n",
       "      <td>...</td>\n",
       "      <td>...</td>\n",
       "      <td>...</td>\n",
       "      <td>...</td>\n",
       "      <td>...</td>\n",
       "      <td>...</td>\n",
       "      <td>...</td>\n",
       "      <td>...</td>\n",
       "      <td>...</td>\n",
       "      <td>...</td>\n",
       "      <td>...</td>\n",
       "      <td>...</td>\n",
       "      <td>...</td>\n",
       "    </tr>\n",
       "    <tr>\n",
       "      <th>586471</th>\n",
       "      <td>0</td>\n",
       "      <td>244507</td>\n",
       "      <td>0.48</td>\n",
       "      <td>0.78</td>\n",
       "      <td>1</td>\n",
       "      <td>-5.97</td>\n",
       "      <td>1</td>\n",
       "      <td>0.05</td>\n",
       "      <td>0.01</td>\n",
       "      <td>0.00</td>\n",
       "      <td>0.11</td>\n",
       "      <td>0.18</td>\n",
       "      <td>120.04</td>\n",
       "      <td>4</td>\n",
       "      <td>347943.00</td>\n",
       "      <td>38487</td>\n",
       "      <td>60.00</td>\n",
       "    </tr>\n",
       "    <tr>\n",
       "      <th>586479</th>\n",
       "      <td>0</td>\n",
       "      <td>244080</td>\n",
       "      <td>0.56</td>\n",
       "      <td>0.34</td>\n",
       "      <td>6</td>\n",
       "      <td>-9.64</td>\n",
       "      <td>1</td>\n",
       "      <td>0.04</td>\n",
       "      <td>0.59</td>\n",
       "      <td>0.00</td>\n",
       "      <td>0.11</td>\n",
       "      <td>0.35</td>\n",
       "      <td>72.00</td>\n",
       "      <td>3</td>\n",
       "      <td>70692.00</td>\n",
       "      <td>6437</td>\n",
       "      <td>49.00</td>\n",
       "    </tr>\n",
       "    <tr>\n",
       "      <th>586501</th>\n",
       "      <td>0</td>\n",
       "      <td>266289</td>\n",
       "      <td>0.61</td>\n",
       "      <td>0.52</td>\n",
       "      <td>2</td>\n",
       "      <td>-8.37</td>\n",
       "      <td>1</td>\n",
       "      <td>0.03</td>\n",
       "      <td>0.69</td>\n",
       "      <td>0.00</td>\n",
       "      <td>0.14</td>\n",
       "      <td>0.28</td>\n",
       "      <td>121.83</td>\n",
       "      <td>4</td>\n",
       "      <td>514890.00</td>\n",
       "      <td>13963</td>\n",
       "      <td>61.00</td>\n",
       "    </tr>\n",
       "    <tr>\n",
       "      <th>586544</th>\n",
       "      <td>0</td>\n",
       "      <td>274360</td>\n",
       "      <td>0.34</td>\n",
       "      <td>0.54</td>\n",
       "      <td>3</td>\n",
       "      <td>-6.83</td>\n",
       "      <td>1</td>\n",
       "      <td>0.04</td>\n",
       "      <td>0.44</td>\n",
       "      <td>0.00</td>\n",
       "      <td>0.32</td>\n",
       "      <td>0.26</td>\n",
       "      <td>167.94</td>\n",
       "      <td>4</td>\n",
       "      <td>17242.00</td>\n",
       "      <td>10114</td>\n",
       "      <td>48.00</td>\n",
       "    </tr>\n",
       "    <tr>\n",
       "      <th>586637</th>\n",
       "      <td>1</td>\n",
       "      <td>176417</td>\n",
       "      <td>0.60</td>\n",
       "      <td>0.66</td>\n",
       "      <td>8</td>\n",
       "      <td>-7.16</td>\n",
       "      <td>1</td>\n",
       "      <td>0.03</td>\n",
       "      <td>0.01</td>\n",
       "      <td>0.00</td>\n",
       "      <td>0.20</td>\n",
       "      <td>0.16</td>\n",
       "      <td>104.00</td>\n",
       "      <td>4</td>\n",
       "      <td>902297.00</td>\n",
       "      <td>22856</td>\n",
       "      <td>80.00</td>\n",
       "    </tr>\n",
       "  </tbody>\n",
       "</table>\n",
       "<p>4145 rows × 17 columns</p>\n",
       "</div>"
      ],
      "text/plain": [
       "        track_popularity  duration_ms  danceability  energy  key  loudness  \\\n",
       "1864                   0       183560          0.65    0.09    5    -18.88   \n",
       "1957                   0       197013          0.66    0.21    7    -18.69   \n",
       "8160                   0       181240          0.74    0.26    3    -11.81   \n",
       "8162                   0       178467          0.67    0.38    3    -11.41   \n",
       "8165                   0       176027          0.80    0.49    7    -10.94   \n",
       "...                  ...          ...           ...     ...  ...       ...   \n",
       "586471                 0       244507          0.48    0.78    1     -5.97   \n",
       "586479                 0       244080          0.56    0.34    6     -9.64   \n",
       "586501                 0       266289          0.61    0.52    2     -8.37   \n",
       "586544                 0       274360          0.34    0.54    3     -6.83   \n",
       "586637                 1       176417          0.60    0.66    8     -7.16   \n",
       "\n",
       "        mode  speechiness  acousticness  instrumentalness  liveness  valence  \\\n",
       "1864       1         0.05          0.72              0.00      0.17     0.54   \n",
       "1957       1         0.04          0.87              0.00      0.20     0.59   \n",
       "8160       1         0.04          0.74              0.00      0.15     0.52   \n",
       "8162       1         0.07          0.73              0.00      0.12     0.84   \n",
       "8165       1         0.05          0.78              0.00      0.15     0.83   \n",
       "...      ...          ...           ...               ...       ...      ...   \n",
       "586471     1         0.05          0.01              0.00      0.11     0.18   \n",
       "586479     1         0.04          0.59              0.00      0.11     0.35   \n",
       "586501     1         0.03          0.69              0.00      0.14     0.28   \n",
       "586544     1         0.04          0.44              0.00      0.32     0.26   \n",
       "586637     1         0.03          0.01              0.00      0.20     0.16   \n",
       "\n",
       "        tempo  time_signature  followers  artists_name  artists_popularity  \n",
       "1864    87.22               4   95038.00         11064               49.00  \n",
       "1957   102.94               4   95038.00         11064               49.00  \n",
       "8160   112.01               4 1411671.00          4151               70.00  \n",
       "8162   155.96               4 1411671.00          4151               70.00  \n",
       "8165   134.57               4 1411671.00          4151               70.00  \n",
       "...       ...             ...        ...           ...                 ...  \n",
       "586471 120.04               4  347943.00         38487               60.00  \n",
       "586479  72.00               3   70692.00          6437               49.00  \n",
       "586501 121.83               4  514890.00         13963               61.00  \n",
       "586544 167.94               4   17242.00         10114               48.00  \n",
       "586637 104.00               4  902297.00         22856               80.00  \n",
       "\n",
       "[4145 rows x 17 columns]"
      ]
     },
     "execution_count": 556,
     "metadata": {},
     "output_type": "execute_result"
    }
   ],
   "source": [
    "df_merged[df_merged.duplicated()]"
   ]
  },
  {
   "cell_type": "code",
   "execution_count": 557,
   "id": "76aa0b6e",
   "metadata": {},
   "outputs": [],
   "source": [
    "# df_merged.shape"
   ]
  },
  {
   "cell_type": "code",
   "execution_count": 558,
   "id": "b6f95b4a",
   "metadata": {},
   "outputs": [],
   "source": [
    "df_merged.drop_duplicates(inplace=True)"
   ]
  },
  {
   "cell_type": "code",
   "execution_count": 559,
   "id": "a8e7eb86",
   "metadata": {},
   "outputs": [],
   "source": [
    "# df_merged.info()"
   ]
  },
  {
   "cell_type": "code",
   "execution_count": 560,
   "id": "69a85076",
   "metadata": {},
   "outputs": [],
   "source": [
    "# df_merged.columns"
   ]
  },
  {
   "cell_type": "code",
   "execution_count": 561,
   "id": "566b6162",
   "metadata": {},
   "outputs": [],
   "source": [
    "# popularity_counts = df_merged['track_popularity'].value_counts()\n",
    "\n",
    "# # Plot a pie chart\n",
    "# plt.figure(figsize=(8, 8))\n",
    "# labels = ['Highly Popular', 'Less Popular']\n",
    "# plt.figure(figsize=(8, 6))\n",
    "# plt.bar(labels, popularity_counts)\n",
    "# plt.title('Distribution of Track Popularity Status (Bar Chart)')\n",
    "# plt.xlabel('Popularity Status')\n",
    "# plt.ylabel('Count')\n",
    "# plt.show()"
   ]
  },
  {
   "cell_type": "code",
   "execution_count": 562,
   "id": "a7ef6927",
   "metadata": {},
   "outputs": [],
   "source": [
    "# df_merged.drop(['track_popularity', 'artists_name'], axis=1).hist(bins = 20, color = 'orange', figsize = (20, 14))"
   ]
  },
  {
   "cell_type": "code",
   "execution_count": 563,
   "id": "74a148f3",
   "metadata": {},
   "outputs": [],
   "source": [
    "# plt.figure(figsize=(20, 10))\n",
    "# sns.heatmap(df_merged.corr(), annot=True, cmap='coolwarm')\n",
    "# plt.show()"
   ]
  },
  {
   "cell_type": "code",
   "execution_count": 564,
   "id": "c285551d",
   "metadata": {
    "scrolled": false
   },
   "outputs": [
    {
     "data": {
      "image/png": "[encoded data removed]",
      "text/plain": [
       "<Figure size 640x480 with 1 Axes>"
      ]
     },
     "metadata": {},
     "output_type": "display_data"
    }
   ],
   "source": [
    "plt.gca().xaxis.set_major_formatter(ticker.FuncFormatter(lambda x, _: '{:.0f}'.format(x)))\n",
    "df_merged['track_popularity'] = df_merged['track_popularity'].map({1: 'Highly Popular', 0: 'Less Popular'})\n",
    "sns.histplot(data=df_merged, x='duration_ms', hue='track_popularity')\n",
    "plt.title('Histogram of Track Duration')\n",
    "plt.xlabel('Duration (ms)')\n",
    "plt.ylabel('Count')\n",
    "plt.show()"
   ]
  },
  {
   "cell_type": "code",
   "execution_count": 103,
   "id": "092a1ed6",
   "metadata": {},
   "outputs": [
    {
     "data": {
      "text/plain": [
       "Text(0, 0.5, 'Count')"
      ]
     },
     "execution_count": 103,
     "metadata": {},
     "output_type": "execute_result"
    },
    {
     "data": {
      "image/png": "[encoded data removed]",
      "text/plain": [
       "<Figure size 640x480 with 1 Axes>"
      ]
     },
     "metadata": {},
     "output_type": "display_data"
    }
   ],
   "source": [
    "sns.countplot(data=df_merged, x='key', hue='track_popularity')\n",
    "plt.title('Key Distribution by Popularity')\n",
    "plt.xlabel('Musical Key')\n",
    "plt.ylabel('Count')"
   ]
  },
  {
   "cell_type": "code",
   "execution_count": 104,
   "id": "9ae56c36",
   "metadata": {},
   "outputs": [
    {
     "data": {
      "text/plain": [
       "Text(0, 0.5, 'Count')"
      ]
     },
     "execution_count": 104,
     "metadata": {},
     "output_type": "execute_result"
    },
    {
     "data": {
      "image/png": "[encoded data removed]",
      "text/plain": [
       "<Figure size 640x480 with 1 Axes>"
      ]
     },
     "metadata": {},
     "output_type": "display_data"
    }
   ],
   "source": [
    "\n",
    "sns.countplot(data=df_merged, x='mode', hue='track_popularity')\n",
    "plt.title('Mode Distribution by Popularity')\n",
    "plt.xlabel('Mode (0 = Minor, 1 = Major)')\n",
    "plt.ylabel('Count')"
   ]
  },
  {
   "cell_type": "code",
   "execution_count": 566,
   "id": "30091416",
   "metadata": {},
   "outputs": [
    {
     "data": {
      "text/plain": [
       "Text(0, 0.5, 'Artist Popularity Score')"
      ]
     },
     "execution_count": 566,
     "metadata": {},
     "output_type": "execute_result"
    },
    {
     "data": {
      "image/png": "[encoded data removed]",
      "text/plain": [
       "<Figure size 640x480 with 1 Axes>"
      ]
     },
     "metadata": {},
     "output_type": "display_data"
    }
   ],
   "source": [
    "plt.gca().xaxis.set_major_formatter(ticker.FuncFormatter(lambda x, _: '{:.0f}'.format(x)))\n",
    "sns.scatterplot(data=df_merged, x='followers', y='artists_popularity', hue='track_popularity', palette=\"coolwarm\")\n",
    "plt.title('Followers vs Artist Popularity')\n",
    "plt.xlabel('Number of Followers')\n",
    "plt.ylabel('Artist Popularity Score')"
   ]
  },
  {
   "cell_type": "code",
   "execution_count": 106,
   "id": "902fb275",
   "metadata": {},
   "outputs": [],
   "source": [
    "import matplotlib.ticker as ticker"
   ]
  },
  {
   "cell_type": "code",
   "execution_count": 107,
   "id": "350b1529",
   "metadata": {
    "scrolled": false
   },
   "outputs": [
    {
     "ename": "ValueError",
     "evalue": "Invalid RGBA argument: None",
     "output_type": "error",
     "traceback": [
      "\u001b[0;31m---------------------------------------------------------------------------\u001b[0m",
      "\u001b[0;31mValueError\u001b[0m                                Traceback (most recent call last)",
      "Cell \u001b[0;32mIn[107], line 3\u001b[0m\n\u001b[1;32m      1\u001b[0m plt\u001b[38;5;241m.\u001b[39mgca()\u001b[38;5;241m.\u001b[39mxaxis\u001b[38;5;241m.\u001b[39mset_major_formatter(ticker\u001b[38;5;241m.\u001b[39mFuncFormatter(\u001b[38;5;28;01mlambda\u001b[39;00m x, _: \u001b[38;5;124m'\u001b[39m\u001b[38;5;132;01m{:.0f}\u001b[39;00m\u001b[38;5;124m'\u001b[39m\u001b[38;5;241m.\u001b[39mformat(x)))\n\u001b[1;32m      2\u001b[0m df_merged[\u001b[38;5;124m'\u001b[39m\u001b[38;5;124mtrack_popularity\u001b[39m\u001b[38;5;124m'\u001b[39m] \u001b[38;5;241m=\u001b[39m df_merged[\u001b[38;5;124m'\u001b[39m\u001b[38;5;124mtrack_popularity\u001b[39m\u001b[38;5;124m'\u001b[39m]\u001b[38;5;241m.\u001b[39mmap({\u001b[38;5;241m1\u001b[39m: \u001b[38;5;124m'\u001b[39m\u001b[38;5;124mHighly Popular\u001b[39m\u001b[38;5;124m'\u001b[39m, \u001b[38;5;241m0\u001b[39m: \u001b[38;5;124m'\u001b[39m\u001b[38;5;124mLess Popular\u001b[39m\u001b[38;5;124m'\u001b[39m})\n\u001b[0;32m----> 3\u001b[0m sns\u001b[38;5;241m.\u001b[39mhistplot(data\u001b[38;5;241m=\u001b[39mdf_merged, x\u001b[38;5;241m=\u001b[39m\u001b[38;5;124m'\u001b[39m\u001b[38;5;124mduration_ms\u001b[39m\u001b[38;5;124m'\u001b[39m, hue\u001b[38;5;241m=\u001b[39m\u001b[38;5;124m'\u001b[39m\u001b[38;5;124mtrack_popularity\u001b[39m\u001b[38;5;124m'\u001b[39m)\n\u001b[1;32m      4\u001b[0m plt\u001b[38;5;241m.\u001b[39mtitle(\u001b[38;5;124m'\u001b[39m\u001b[38;5;124mHistogram of Track Duration\u001b[39m\u001b[38;5;124m'\u001b[39m)\n\u001b[1;32m      5\u001b[0m plt\u001b[38;5;241m.\u001b[39mxlabel(\u001b[38;5;124m'\u001b[39m\u001b[38;5;124mDuration (ms)\u001b[39m\u001b[38;5;124m'\u001b[39m)\n",
      "File \u001b[0;32m~/anaconda3/lib/python3.11/site-packages/seaborn/distributions.py:1432\u001b[0m, in \u001b[0;36mhistplot\u001b[0;34m(data, x, y, hue, weights, stat, bins, binwidth, binrange, discrete, cumulative, common_bins, common_norm, multiple, element, fill, shrink, kde, kde_kws, line_kws, thresh, pthresh, pmax, cbar, cbar_ax, cbar_kws, palette, hue_order, hue_norm, color, log_scale, legend, ax, **kwargs)\u001b[0m\n\u001b[1;32m   1421\u001b[0m estimate_kws \u001b[38;5;241m=\u001b[39m \u001b[38;5;28mdict\u001b[39m(\n\u001b[1;32m   1422\u001b[0m     stat\u001b[38;5;241m=\u001b[39mstat,\n\u001b[1;32m   1423\u001b[0m     bins\u001b[38;5;241m=\u001b[39mbins,\n\u001b[0;32m   (...)\u001b[0m\n\u001b[1;32m   1427\u001b[0m     cumulative\u001b[38;5;241m=\u001b[39mcumulative,\n\u001b[1;32m   1428\u001b[0m )\n\u001b[1;32m   1430\u001b[0m \u001b[38;5;28;01mif\u001b[39;00m p\u001b[38;5;241m.\u001b[39munivariate:\n\u001b[0;32m-> 1432\u001b[0m     p\u001b[38;5;241m.\u001b[39mplot_univariate_histogram(\n\u001b[1;32m   1433\u001b[0m         multiple\u001b[38;5;241m=\u001b[39mmultiple,\n\u001b[1;32m   1434\u001b[0m         element\u001b[38;5;241m=\u001b[39melement,\n\u001b[1;32m   1435\u001b[0m         fill\u001b[38;5;241m=\u001b[39mfill,\n\u001b[1;32m   1436\u001b[0m         shrink\u001b[38;5;241m=\u001b[39mshrink,\n\u001b[1;32m   1437\u001b[0m         common_norm\u001b[38;5;241m=\u001b[39mcommon_norm,\n\u001b[1;32m   1438\u001b[0m         common_bins\u001b[38;5;241m=\u001b[39mcommon_bins,\n\u001b[1;32m   1439\u001b[0m         kde\u001b[38;5;241m=\u001b[39mkde,\n\u001b[1;32m   1440\u001b[0m         kde_kws\u001b[38;5;241m=\u001b[39mkde_kws,\n\u001b[1;32m   1441\u001b[0m         color\u001b[38;5;241m=\u001b[39mcolor,\n\u001b[1;32m   1442\u001b[0m         legend\u001b[38;5;241m=\u001b[39mlegend,\n\u001b[1;32m   1443\u001b[0m         estimate_kws\u001b[38;5;241m=\u001b[39mestimate_kws,\n\u001b[1;32m   1444\u001b[0m         line_kws\u001b[38;5;241m=\u001b[39mline_kws,\n\u001b[1;32m   1445\u001b[0m         \u001b[38;5;241m*\u001b[39m\u001b[38;5;241m*\u001b[39mkwargs,\n\u001b[1;32m   1446\u001b[0m     )\n\u001b[1;32m   1448\u001b[0m \u001b[38;5;28;01melse\u001b[39;00m:\n\u001b[1;32m   1450\u001b[0m     p\u001b[38;5;241m.\u001b[39mplot_bivariate_histogram(\n\u001b[1;32m   1451\u001b[0m         common_bins\u001b[38;5;241m=\u001b[39mcommon_bins,\n\u001b[1;32m   1452\u001b[0m         common_norm\u001b[38;5;241m=\u001b[39mcommon_norm,\n\u001b[0;32m   (...)\u001b[0m\n\u001b[1;32m   1462\u001b[0m         \u001b[38;5;241m*\u001b[39m\u001b[38;5;241m*\u001b[39mkwargs,\n\u001b[1;32m   1463\u001b[0m     )\n",
      "File \u001b[0;32m~/anaconda3/lib/python3.11/site-packages/seaborn/distributions.py:566\u001b[0m, in \u001b[0;36m_DistributionPlotter.plot_univariate_histogram\u001b[0;34m(self, multiple, element, fill, common_norm, common_bins, shrink, kde, kde_kws, color, legend, line_kws, estimate_kws, **plot_kws)\u001b[0m\n\u001b[1;32m    563\u001b[0m \u001b[38;5;28;01melse\u001b[39;00m:\n\u001b[1;32m    564\u001b[0m     sub_color \u001b[38;5;241m=\u001b[39m color\n\u001b[0;32m--> 566\u001b[0m artist_kws \u001b[38;5;241m=\u001b[39m \u001b[38;5;28mself\u001b[39m\u001b[38;5;241m.\u001b[39m_artist_kws(\n\u001b[1;32m    567\u001b[0m     plot_kws, fill, element, multiple, sub_color, alpha\n\u001b[1;32m    568\u001b[0m )\n\u001b[1;32m    570\u001b[0m \u001b[38;5;28;01mif\u001b[39;00m element \u001b[38;5;241m==\u001b[39m \u001b[38;5;124m\"\u001b[39m\u001b[38;5;124mbars\u001b[39m\u001b[38;5;124m\"\u001b[39m:\n\u001b[1;32m    571\u001b[0m \n\u001b[1;32m    572\u001b[0m     \u001b[38;5;66;03m# Use matplotlib bar plotting\u001b[39;00m\n\u001b[1;32m    574\u001b[0m     plot_func \u001b[38;5;241m=\u001b[39m ax\u001b[38;5;241m.\u001b[39mbar \u001b[38;5;28;01mif\u001b[39;00m \u001b[38;5;28mself\u001b[39m\u001b[38;5;241m.\u001b[39mdata_variable \u001b[38;5;241m==\u001b[39m \u001b[38;5;124m\"\u001b[39m\u001b[38;5;124mx\u001b[39m\u001b[38;5;124m\"\u001b[39m \u001b[38;5;28;01melse\u001b[39;00m ax\u001b[38;5;241m.\u001b[39mbarh\n",
      "File \u001b[0;32m~/anaconda3/lib/python3.11/site-packages/seaborn/distributions.py:178\u001b[0m, in \u001b[0;36m_DistributionPlotter._artist_kws\u001b[0;34m(self, kws, fill, element, multiple, color, alpha)\u001b[0m\n\u001b[1;32m    176\u001b[0m \u001b[38;5;28;01mif\u001b[39;00m fill:\n\u001b[1;32m    177\u001b[0m     kws \u001b[38;5;241m=\u001b[39m _normalize_kwargs(kws, mpl\u001b[38;5;241m.\u001b[39mcollections\u001b[38;5;241m.\u001b[39mPolyCollection)\n\u001b[0;32m--> 178\u001b[0m     kws\u001b[38;5;241m.\u001b[39msetdefault(\u001b[38;5;124m\"\u001b[39m\u001b[38;5;124mfacecolor\u001b[39m\u001b[38;5;124m\"\u001b[39m, to_rgba(color, alpha))\n\u001b[1;32m    180\u001b[0m     \u001b[38;5;28;01mif\u001b[39;00m element \u001b[38;5;241m==\u001b[39m \u001b[38;5;124m\"\u001b[39m\u001b[38;5;124mbars\u001b[39m\u001b[38;5;124m\"\u001b[39m:\n\u001b[1;32m    181\u001b[0m         \u001b[38;5;66;03m# Make bar() interface with property cycle correctly\u001b[39;00m\n\u001b[1;32m    182\u001b[0m         \u001b[38;5;66;03m# https://github.com/matplotlib/matplotlib/issues/19385\u001b[39;00m\n\u001b[1;32m    183\u001b[0m         kws[\u001b[38;5;124m\"\u001b[39m\u001b[38;5;124mcolor\u001b[39m\u001b[38;5;124m\"\u001b[39m] \u001b[38;5;241m=\u001b[39m \u001b[38;5;124m\"\u001b[39m\u001b[38;5;124mnone\u001b[39m\u001b[38;5;124m\"\u001b[39m\n",
      "File \u001b[0;32m~/anaconda3/lib/python3.11/site-packages/matplotlib/colors.py:299\u001b[0m, in \u001b[0;36mto_rgba\u001b[0;34m(c, alpha)\u001b[0m\n\u001b[1;32m    297\u001b[0m     rgba \u001b[38;5;241m=\u001b[39m \u001b[38;5;28;01mNone\u001b[39;00m\n\u001b[1;32m    298\u001b[0m \u001b[38;5;28;01mif\u001b[39;00m rgba \u001b[38;5;129;01mis\u001b[39;00m \u001b[38;5;28;01mNone\u001b[39;00m:  \u001b[38;5;66;03m# Suppress exception chaining of cache lookup failure.\u001b[39;00m\n\u001b[0;32m--> 299\u001b[0m     rgba \u001b[38;5;241m=\u001b[39m _to_rgba_no_colorcycle(c, alpha)\n\u001b[1;32m    300\u001b[0m     \u001b[38;5;28;01mtry\u001b[39;00m:\n\u001b[1;32m    301\u001b[0m         _colors_full_map\u001b[38;5;241m.\u001b[39mcache[c, alpha] \u001b[38;5;241m=\u001b[39m rgba\n",
      "File \u001b[0;32m~/anaconda3/lib/python3.11/site-packages/matplotlib/colors.py:381\u001b[0m, in \u001b[0;36m_to_rgba_no_colorcycle\u001b[0;34m(c, alpha)\u001b[0m\n\u001b[1;32m    379\u001b[0m \u001b[38;5;66;03m# tuple color.\u001b[39;00m\n\u001b[1;32m    380\u001b[0m \u001b[38;5;28;01mif\u001b[39;00m \u001b[38;5;129;01mnot\u001b[39;00m np\u001b[38;5;241m.\u001b[39miterable(c):\n\u001b[0;32m--> 381\u001b[0m     \u001b[38;5;28;01mraise\u001b[39;00m \u001b[38;5;167;01mValueError\u001b[39;00m(\u001b[38;5;124mf\u001b[39m\u001b[38;5;124m\"\u001b[39m\u001b[38;5;124mInvalid RGBA argument: \u001b[39m\u001b[38;5;132;01m{\u001b[39;00morig_c\u001b[38;5;132;01m!r}\u001b[39;00m\u001b[38;5;124m\"\u001b[39m)\n\u001b[1;32m    382\u001b[0m \u001b[38;5;28;01mif\u001b[39;00m \u001b[38;5;28mlen\u001b[39m(c) \u001b[38;5;129;01mnot\u001b[39;00m \u001b[38;5;129;01min\u001b[39;00m [\u001b[38;5;241m3\u001b[39m, \u001b[38;5;241m4\u001b[39m]:\n\u001b[1;32m    383\u001b[0m     \u001b[38;5;28;01mraise\u001b[39;00m \u001b[38;5;167;01mValueError\u001b[39;00m(\u001b[38;5;124m\"\u001b[39m\u001b[38;5;124mRGBA sequence should have length 3 or 4\u001b[39m\u001b[38;5;124m\"\u001b[39m)\n",
      "\u001b[0;31mValueError\u001b[0m: Invalid RGBA argument: None"
     ]
    },
    {
     "data": {
      "image/png": "[encoded data removed]",
      "text/plain": [
       "<Figure size 640x480 with 1 Axes>"
      ]
     },
     "metadata": {},
     "output_type": "display_data"
    }
   ],
   "source": [
    "plt.gca().xaxis.set_major_formatter(ticker.FuncFormatter(lambda x, _: '{:.0f}'.format(x)))\n",
    "df_merged['track_popularity'] = df_merged['track_popularity'].map({1: 'Highly Popular', 0: 'Less Popular'})\n",
    "sns.histplot(data=df_merged, x='duration_ms', hue='track_popularity')\n",
    "plt.title('Histogram of Track Duration')\n",
    "plt.xlabel('Duration (ms)')\n",
    "plt.ylabel('Count')\n",
    "plt.show()"
   ]
  },
  {
   "cell_type": "code",
   "execution_count": 568,
   "id": "4c6cbe29",
   "metadata": {},
   "outputs": [
    {
     "data": {
      "image/png": "[encoded data removed]",
      "text/plain": [
       "<Figure size 800x600 with 1 Axes>"
      ]
     },
     "metadata": {},
     "output_type": "display_data"
    }
   ],
   "source": [
    "plt.figure(figsize=(8, 6))\n",
    "sns.boxplot(x='track_popularity', y='energy', data=df_merged)\n",
    "plt.title('Energy Levels by Track Popularity')\n",
    "plt.xlabel('Track Popularity (0 = Less Popular, 1 = Highly Popular)')\n",
    "plt.ylabel('Energy Level')\n",
    "plt.show()"
   ]
  },
  {
   "cell_type": "code",
   "execution_count": null,
   "id": "9b801722",
   "metadata": {},
   "outputs": [],
   "source": []
  }
 ],
 "metadata": {
  "kernelspec": {
   "display_name": "Python 3 (ipykernel)",
   "language": "python",
   "name": "python3"
  },
  "language_info": {
   "codemirror_mode": {
    "name": "ipython",
    "version": 3
   },
   "file_extension": ".py",
   "mimetype": "text/x-python",
   "name": "python",
   "nbconvert_exporter": "python",
   "pygments_lexer": "ipython3",
   "version": "3.11.5"
  }
 },
 "nbformat": 4,
 "nbformat_minor": 5
}
