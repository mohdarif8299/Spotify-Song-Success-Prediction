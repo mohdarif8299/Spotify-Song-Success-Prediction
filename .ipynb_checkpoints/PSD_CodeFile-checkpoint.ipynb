{
 "cells": [
  {
   "cell_type": "code",
   "execution_count": 1,
   "id": "0813f108",
   "metadata": {},
   "outputs": [],
   "source": [
    "# Importing the required libraries\n",
    "import pandas as pd\n",
    "import seaborn as sns\n",
    "import matplotlib.pyplot as plt\n",
    "from sklearn.preprocessing import LabelEncoder\n",
    "from sklearn.model_selection import train_test_split\n",
    "from sklearn.ensemble import RandomForestClassifier\n",
    "from sklearn.metrics import classification_report, accuracy_score,  roc_curve, auc,precision_score, recall_score, f1_score\n",
    "from imblearn.over_sampling import SMOTE\n",
    "from imblearn.pipeline import Pipeline\n",
    "from sklearn.linear_model import LogisticRegression\n",
    "import matplotlib.ticker as ticker"
   ]
  },
  {
   "cell_type": "code",
   "execution_count": 10,
   "id": "20bd9f8c",
   "metadata": {},
   "outputs": [],
   "source": [
    "# loading the datasets\n",
    "tracks_data = pd.read_csv('tracks.csv')\n",
    "artists_data = pd.read_csv('artists_data.csv')\n",
    "pd.set_option('display.float_format', lambda x: f'{x:.2f}')"
   ]
  },
  {
   "cell_type": "code",
   "execution_count": 11,
   "id": "17e215a9",
   "metadata": {},
   "outputs": [
    {
     "data": {
      "text/plain": [
       "id                   0\n",
       "name                71\n",
       "popularity           0\n",
       "duration_ms          0\n",
       "explicit             0\n",
       "artists              0\n",
       "id_artists           0\n",
       "release_date         0\n",
       "danceability         0\n",
       "energy               0\n",
       "key                  0\n",
       "loudness             0\n",
       "mode                 0\n",
       "speechiness          0\n",
       "acousticness         0\n",
       "instrumentalness     0\n",
       "liveness             0\n",
       "valence              0\n",
       "tempo                0\n",
       "time_signature       0\n",
       "dtype: int64"
      ]
     },
     "execution_count": 11,
     "metadata": {},
     "output_type": "execute_result"
    }
   ],
   "source": [
    "# Checking NaN values\n",
    "tracks_data.isna().sum()"
   ]
  },
  {
   "cell_type": "code",
   "execution_count": 12,
   "id": "43d5718d",
   "metadata": {},
   "outputs": [
    {
     "data": {
      "text/plain": [
       "Unnamed: 0     0\n",
       "id             0\n",
       "followers     13\n",
       "name           3\n",
       "popularity     0\n",
       "dtype: int64"
      ]
     },
     "execution_count": 12,
     "metadata": {},
     "output_type": "execute_result"
    }
   ],
   "source": [
    "# Checking NaN values\n",
    "artists_data.isna().sum()"
   ]
  },
  {
   "cell_type": "code",
   "execution_count": 14,
   "id": "b20e6b96",
   "metadata": {},
   "outputs": [],
   "source": [
    "# Renaming columns in tracks_data\n",
    "tracks_data = tracks_data.rename(columns={'name': 'track_name', 'popularity': 'track_popularity'})"
   ]
  },
  {
   "cell_type": "code",
   "execution_count": 15,
   "id": "3d5816ef",
   "metadata": {},
   "outputs": [
    {
     "name": "stdout",
     "output_type": "stream",
     "text": [
      "<class 'pandas.core.frame.DataFrame'>\n",
      "RangeIndex: 586672 entries, 0 to 586671\n",
      "Data columns (total 20 columns):\n",
      " #   Column            Non-Null Count   Dtype  \n",
      "---  ------            --------------   -----  \n",
      " 0   id                586672 non-null  object \n",
      " 1   track_name        586601 non-null  object \n",
      " 2   track_popularity  586672 non-null  int64  \n",
      " 3   duration_ms       586672 non-null  int64  \n",
      " 4   explicit          586672 non-null  int64  \n",
      " 5   artists           586672 non-null  object \n",
      " 6   id_artists        586672 non-null  object \n",
      " 7   release_date      586672 non-null  object \n",
      " 8   danceability      586672 non-null  float64\n",
      " 9   energy            586672 non-null  float64\n",
      " 10  key               586672 non-null  int64  \n",
      " 11  loudness          586672 non-null  float64\n",
      " 12  mode              586672 non-null  int64  \n",
      " 13  speechiness       586672 non-null  float64\n",
      " 14  acousticness      586672 non-null  float64\n",
      " 15  instrumentalness  586672 non-null  float64\n",
      " 16  liveness          586672 non-null  float64\n",
      " 17  valence           586672 non-null  float64\n",
      " 18  tempo             586672 non-null  float64\n",
      " 19  time_signature    586672 non-null  int64  \n",
      "dtypes: float64(9), int64(6), object(5)\n",
      "memory usage: 89.5+ MB\n"
     ]
    }
   ],
   "source": [
    "# Displaying the tracks_data details\n",
    "tracks_data.info()"
   ]
  },
  {
   "cell_type": "code",
   "execution_count": 16,
   "id": "9a30371e",
   "metadata": {},
   "outputs": [
    {
     "name": "stdout",
     "output_type": "stream",
     "text": [
      "<class 'pandas.core.frame.DataFrame'>\n",
      "RangeIndex: 1104349 entries, 0 to 1104348\n",
      "Data columns (total 5 columns):\n",
      " #   Column      Non-Null Count    Dtype  \n",
      "---  ------      --------------    -----  \n",
      " 0   Unnamed: 0  1104349 non-null  int64  \n",
      " 1   id          1104349 non-null  object \n",
      " 2   followers   1104336 non-null  float64\n",
      " 3   name        1104346 non-null  object \n",
      " 4   popularity  1104349 non-null  int64  \n",
      "dtypes: float64(1), int64(2), object(2)\n",
      "memory usage: 42.1+ MB\n"
     ]
    }
   ],
   "source": [
    "artists_data.info()"
   ]
  },
  {
   "cell_type": "code",
   "execution_count": 17,
   "id": "dd098677",
   "metadata": {},
   "outputs": [],
   "source": [
    "# Renaming columns in artist's data\n",
    "artists_data = artists_data.rename(columns={'id': 'id_artists','name': 'artists_name', 'popularity': 'artists_popularity'})"
   ]
  },
  {
   "cell_type": "code",
   "execution_count": 18,
   "id": "da0740d5",
   "metadata": {},
   "outputs": [],
   "source": [
    "# Formating the artist's id in tracks_data\n",
    "tracks_data['id_artists'] = tracks_data['id_artists'].str.replace(\"\\['\", \"\").str.replace(\"\\']\",\"\").str.replace(\"'\",\"\")\n",
    "tracks_data['id_artists'] = tracks_data['id_artists'].str.replace('[', '')\n",
    "tracks_data['id_artists']= tracks_data['id_artists'].str.split(',').str[0]"
   ]
  },
  {
   "cell_type": "code",
   "execution_count": 19,
   "id": "576d6b6f",
   "metadata": {},
   "outputs": [
    {
     "data": {
      "text/html": [
       "<div>\n",
       "<style scoped>\n",
       "    .dataframe tbody tr th:only-of-type {\n",
       "        vertical-align: middle;\n",
       "    }\n",
       "\n",
       "    .dataframe tbody tr th {\n",
       "        vertical-align: top;\n",
       "    }\n",
       "\n",
       "    .dataframe thead th {\n",
       "        text-align: right;\n",
       "    }\n",
       "</style>\n",
       "<table border=\"1\" class=\"dataframe\">\n",
       "  <thead>\n",
       "    <tr style=\"text-align: right;\">\n",
       "      <th></th>\n",
       "      <th>id</th>\n",
       "      <th>track_name</th>\n",
       "      <th>track_popularity</th>\n",
       "      <th>duration_ms</th>\n",
       "      <th>explicit</th>\n",
       "      <th>artists</th>\n",
       "      <th>id_artists</th>\n",
       "      <th>release_date</th>\n",
       "      <th>danceability</th>\n",
       "      <th>energy</th>\n",
       "      <th>key</th>\n",
       "      <th>loudness</th>\n",
       "      <th>mode</th>\n",
       "      <th>speechiness</th>\n",
       "      <th>acousticness</th>\n",
       "      <th>instrumentalness</th>\n",
       "      <th>liveness</th>\n",
       "      <th>valence</th>\n",
       "      <th>tempo</th>\n",
       "      <th>time_signature</th>\n",
       "    </tr>\n",
       "  </thead>\n",
       "  <tbody>\n",
       "    <tr>\n",
       "      <th>0</th>\n",
       "      <td>35iwgR4jXetI318WEWsa1Q</td>\n",
       "      <td>Carve</td>\n",
       "      <td>6</td>\n",
       "      <td>126903</td>\n",
       "      <td>0</td>\n",
       "      <td>['Uli']</td>\n",
       "      <td>45tIt06XoI0Iio4LBEVpls</td>\n",
       "      <td>1922-02-22</td>\n",
       "      <td>0.65</td>\n",
       "      <td>0.45</td>\n",
       "      <td>0</td>\n",
       "      <td>-13.34</td>\n",
       "      <td>1</td>\n",
       "      <td>0.45</td>\n",
       "      <td>0.67</td>\n",
       "      <td>0.74</td>\n",
       "      <td>0.15</td>\n",
       "      <td>0.13</td>\n",
       "      <td>104.85</td>\n",
       "      <td>3</td>\n",
       "    </tr>\n",
       "    <tr>\n",
       "      <th>1</th>\n",
       "      <td>021ht4sdgPcrDgSk7JTbKY</td>\n",
       "      <td>Capítulo 2.16 - Banquero Anarquista</td>\n",
       "      <td>0</td>\n",
       "      <td>98200</td>\n",
       "      <td>0</td>\n",
       "      <td>['Fernando Pessoa']</td>\n",
       "      <td>14jtPCOoNZwquk5wd9DxrY</td>\n",
       "      <td>1922-06-01</td>\n",
       "      <td>0.69</td>\n",
       "      <td>0.26</td>\n",
       "      <td>0</td>\n",
       "      <td>-22.14</td>\n",
       "      <td>1</td>\n",
       "      <td>0.96</td>\n",
       "      <td>0.80</td>\n",
       "      <td>0.00</td>\n",
       "      <td>0.15</td>\n",
       "      <td>0.66</td>\n",
       "      <td>102.01</td>\n",
       "      <td>1</td>\n",
       "    </tr>\n",
       "    <tr>\n",
       "      <th>2</th>\n",
       "      <td>07A5yehtSnoedViJAZkNnc</td>\n",
       "      <td>Vivo para Quererte - Remasterizado</td>\n",
       "      <td>0</td>\n",
       "      <td>181640</td>\n",
       "      <td>0</td>\n",
       "      <td>['Ignacio Corsini']</td>\n",
       "      <td>5LiOoJbxVSAMkBS2fUm3X2</td>\n",
       "      <td>1922-03-21</td>\n",
       "      <td>0.43</td>\n",
       "      <td>0.18</td>\n",
       "      <td>1</td>\n",
       "      <td>-21.18</td>\n",
       "      <td>1</td>\n",
       "      <td>0.05</td>\n",
       "      <td>0.99</td>\n",
       "      <td>0.02</td>\n",
       "      <td>0.21</td>\n",
       "      <td>0.46</td>\n",
       "      <td>130.42</td>\n",
       "      <td>5</td>\n",
       "    </tr>\n",
       "    <tr>\n",
       "      <th>3</th>\n",
       "      <td>08FmqUhxtyLTn6pAh6bk45</td>\n",
       "      <td>El Prisionero - Remasterizado</td>\n",
       "      <td>0</td>\n",
       "      <td>176907</td>\n",
       "      <td>0</td>\n",
       "      <td>['Ignacio Corsini']</td>\n",
       "      <td>5LiOoJbxVSAMkBS2fUm3X2</td>\n",
       "      <td>1922-03-21</td>\n",
       "      <td>0.32</td>\n",
       "      <td>0.09</td>\n",
       "      <td>7</td>\n",
       "      <td>-27.96</td>\n",
       "      <td>1</td>\n",
       "      <td>0.05</td>\n",
       "      <td>0.99</td>\n",
       "      <td>0.92</td>\n",
       "      <td>0.10</td>\n",
       "      <td>0.40</td>\n",
       "      <td>169.98</td>\n",
       "      <td>3</td>\n",
       "    </tr>\n",
       "    <tr>\n",
       "      <th>4</th>\n",
       "      <td>08y9GfoqCWfOGsKdwojr5e</td>\n",
       "      <td>Lady of the Evening</td>\n",
       "      <td>0</td>\n",
       "      <td>163080</td>\n",
       "      <td>0</td>\n",
       "      <td>['Dick Haymes']</td>\n",
       "      <td>3BiJGZsyX9sJchTqcSA7Su</td>\n",
       "      <td>1922</td>\n",
       "      <td>0.40</td>\n",
       "      <td>0.16</td>\n",
       "      <td>3</td>\n",
       "      <td>-16.90</td>\n",
       "      <td>0</td>\n",
       "      <td>0.04</td>\n",
       "      <td>0.99</td>\n",
       "      <td>0.13</td>\n",
       "      <td>0.31</td>\n",
       "      <td>0.20</td>\n",
       "      <td>103.22</td>\n",
       "      <td>4</td>\n",
       "    </tr>\n",
       "    <tr>\n",
       "      <th>5</th>\n",
       "      <td>0BRXJHRNGQ3W4v9frnSfhu</td>\n",
       "      <td>Ave Maria</td>\n",
       "      <td>0</td>\n",
       "      <td>178933</td>\n",
       "      <td>0</td>\n",
       "      <td>['Dick Haymes']</td>\n",
       "      <td>3BiJGZsyX9sJchTqcSA7Su</td>\n",
       "      <td>1922</td>\n",
       "      <td>0.23</td>\n",
       "      <td>0.26</td>\n",
       "      <td>5</td>\n",
       "      <td>-12.34</td>\n",
       "      <td>1</td>\n",
       "      <td>0.04</td>\n",
       "      <td>0.99</td>\n",
       "      <td>0.25</td>\n",
       "      <td>0.10</td>\n",
       "      <td>0.05</td>\n",
       "      <td>118.89</td>\n",
       "      <td>4</td>\n",
       "    </tr>\n",
       "    <tr>\n",
       "      <th>6</th>\n",
       "      <td>0Dd9ImXtAtGwsmsAD69KZT</td>\n",
       "      <td>La Butte Rouge</td>\n",
       "      <td>0</td>\n",
       "      <td>134467</td>\n",
       "      <td>0</td>\n",
       "      <td>['Francis Marty']</td>\n",
       "      <td>2nuMRGzeJ5jJEKlfS7rZ0W</td>\n",
       "      <td>1922</td>\n",
       "      <td>0.51</td>\n",
       "      <td>0.35</td>\n",
       "      <td>4</td>\n",
       "      <td>-12.83</td>\n",
       "      <td>1</td>\n",
       "      <td>0.12</td>\n",
       "      <td>0.96</td>\n",
       "      <td>0.00</td>\n",
       "      <td>0.15</td>\n",
       "      <td>0.73</td>\n",
       "      <td>85.75</td>\n",
       "      <td>5</td>\n",
       "    </tr>\n",
       "    <tr>\n",
       "      <th>7</th>\n",
       "      <td>0IA0Hju8CAgYfV1hwhidBH</td>\n",
       "      <td>La Java</td>\n",
       "      <td>0</td>\n",
       "      <td>161427</td>\n",
       "      <td>0</td>\n",
       "      <td>['Mistinguett']</td>\n",
       "      <td>4AxgXfD7ISvJSTObqm4aIE</td>\n",
       "      <td>1922</td>\n",
       "      <td>0.56</td>\n",
       "      <td>0.18</td>\n",
       "      <td>4</td>\n",
       "      <td>-13.76</td>\n",
       "      <td>1</td>\n",
       "      <td>0.05</td>\n",
       "      <td>0.99</td>\n",
       "      <td>0.00</td>\n",
       "      <td>0.33</td>\n",
       "      <td>0.65</td>\n",
       "      <td>133.09</td>\n",
       "      <td>3</td>\n",
       "    </tr>\n",
       "    <tr>\n",
       "      <th>8</th>\n",
       "      <td>0IgI1UCz84pYeVetnl1lGP</td>\n",
       "      <td>Old Fashioned Girl</td>\n",
       "      <td>0</td>\n",
       "      <td>310073</td>\n",
       "      <td>0</td>\n",
       "      <td>['Greg Fieler']</td>\n",
       "      <td>5nWlsH5RDgFuRAiDeOFVmf</td>\n",
       "      <td>1922</td>\n",
       "      <td>0.49</td>\n",
       "      <td>0.47</td>\n",
       "      <td>0</td>\n",
       "      <td>-16.22</td>\n",
       "      <td>0</td>\n",
       "      <td>0.04</td>\n",
       "      <td>0.62</td>\n",
       "      <td>0.01</td>\n",
       "      <td>0.11</td>\n",
       "      <td>0.54</td>\n",
       "      <td>139.95</td>\n",
       "      <td>4</td>\n",
       "    </tr>\n",
       "    <tr>\n",
       "      <th>9</th>\n",
       "      <td>0JV4iqw2lSKJaHBQZ0e5zK</td>\n",
       "      <td>Martín Fierro - Remasterizado</td>\n",
       "      <td>0</td>\n",
       "      <td>181173</td>\n",
       "      <td>0</td>\n",
       "      <td>['Ignacio Corsini']</td>\n",
       "      <td>5LiOoJbxVSAMkBS2fUm3X2</td>\n",
       "      <td>1922-03-29</td>\n",
       "      <td>0.55</td>\n",
       "      <td>0.04</td>\n",
       "      <td>6</td>\n",
       "      <td>-23.23</td>\n",
       "      <td>1</td>\n",
       "      <td>0.15</td>\n",
       "      <td>1.00</td>\n",
       "      <td>0.93</td>\n",
       "      <td>0.15</td>\n",
       "      <td>0.61</td>\n",
       "      <td>75.59</td>\n",
       "      <td>3</td>\n",
       "    </tr>\n",
       "  </tbody>\n",
       "</table>\n",
       "</div>"
      ],
      "text/plain": [
       "                       id                           track_name  \\\n",
       "0  35iwgR4jXetI318WEWsa1Q                                Carve   \n",
       "1  021ht4sdgPcrDgSk7JTbKY  Capítulo 2.16 - Banquero Anarquista   \n",
       "2  07A5yehtSnoedViJAZkNnc   Vivo para Quererte - Remasterizado   \n",
       "3  08FmqUhxtyLTn6pAh6bk45        El Prisionero - Remasterizado   \n",
       "4  08y9GfoqCWfOGsKdwojr5e                  Lady of the Evening   \n",
       "5  0BRXJHRNGQ3W4v9frnSfhu                            Ave Maria   \n",
       "6  0Dd9ImXtAtGwsmsAD69KZT                       La Butte Rouge   \n",
       "7  0IA0Hju8CAgYfV1hwhidBH                              La Java   \n",
       "8  0IgI1UCz84pYeVetnl1lGP                   Old Fashioned Girl   \n",
       "9  0JV4iqw2lSKJaHBQZ0e5zK        Martín Fierro - Remasterizado   \n",
       "\n",
       "   track_popularity  duration_ms  explicit              artists  \\\n",
       "0                 6       126903         0              ['Uli']   \n",
       "1                 0        98200         0  ['Fernando Pessoa']   \n",
       "2                 0       181640         0  ['Ignacio Corsini']   \n",
       "3                 0       176907         0  ['Ignacio Corsini']   \n",
       "4                 0       163080         0      ['Dick Haymes']   \n",
       "5                 0       178933         0      ['Dick Haymes']   \n",
       "6                 0       134467         0    ['Francis Marty']   \n",
       "7                 0       161427         0      ['Mistinguett']   \n",
       "8                 0       310073         0      ['Greg Fieler']   \n",
       "9                 0       181173         0  ['Ignacio Corsini']   \n",
       "\n",
       "               id_artists release_date  danceability  energy  key  loudness  \\\n",
       "0  45tIt06XoI0Iio4LBEVpls   1922-02-22          0.65    0.45    0    -13.34   \n",
       "1  14jtPCOoNZwquk5wd9DxrY   1922-06-01          0.69    0.26    0    -22.14   \n",
       "2  5LiOoJbxVSAMkBS2fUm3X2   1922-03-21          0.43    0.18    1    -21.18   \n",
       "3  5LiOoJbxVSAMkBS2fUm3X2   1922-03-21          0.32    0.09    7    -27.96   \n",
       "4  3BiJGZsyX9sJchTqcSA7Su         1922          0.40    0.16    3    -16.90   \n",
       "5  3BiJGZsyX9sJchTqcSA7Su         1922          0.23    0.26    5    -12.34   \n",
       "6  2nuMRGzeJ5jJEKlfS7rZ0W         1922          0.51    0.35    4    -12.83   \n",
       "7  4AxgXfD7ISvJSTObqm4aIE         1922          0.56    0.18    4    -13.76   \n",
       "8  5nWlsH5RDgFuRAiDeOFVmf         1922          0.49    0.47    0    -16.22   \n",
       "9  5LiOoJbxVSAMkBS2fUm3X2   1922-03-29          0.55    0.04    6    -23.23   \n",
       "\n",
       "   mode  speechiness  acousticness  instrumentalness  liveness  valence  \\\n",
       "0     1         0.45          0.67              0.74      0.15     0.13   \n",
       "1     1         0.96          0.80              0.00      0.15     0.66   \n",
       "2     1         0.05          0.99              0.02      0.21     0.46   \n",
       "3     1         0.05          0.99              0.92      0.10     0.40   \n",
       "4     0         0.04          0.99              0.13      0.31     0.20   \n",
       "5     1         0.04          0.99              0.25      0.10     0.05   \n",
       "6     1         0.12          0.96              0.00      0.15     0.73   \n",
       "7     1         0.05          0.99              0.00      0.33     0.65   \n",
       "8     0         0.04          0.62              0.01      0.11     0.54   \n",
       "9     1         0.15          1.00              0.93      0.15     0.61   \n",
       "\n",
       "   tempo  time_signature  \n",
       "0 104.85               3  \n",
       "1 102.01               1  \n",
       "2 130.42               5  \n",
       "3 169.98               3  \n",
       "4 103.22               4  \n",
       "5 118.89               4  \n",
       "6  85.75               5  \n",
       "7 133.09               3  \n",
       "8 139.95               4  \n",
       "9  75.59               3  "
      ]
     },
     "execution_count": 19,
     "metadata": {},
     "output_type": "execute_result"
    }
   ],
   "source": [
    "# Displaying top 10 rows of tracks_data\n",
    "tracks_data.head(10)"
   ]
  },
  {
   "cell_type": "code",
   "execution_count": 20,
   "id": "a457a661",
   "metadata": {},
   "outputs": [
    {
     "data": {
      "text/html": [
       "<div>\n",
       "<style scoped>\n",
       "    .dataframe tbody tr th:only-of-type {\n",
       "        vertical-align: middle;\n",
       "    }\n",
       "\n",
       "    .dataframe tbody tr th {\n",
       "        vertical-align: top;\n",
       "    }\n",
       "\n",
       "    .dataframe thead th {\n",
       "        text-align: right;\n",
       "    }\n",
       "</style>\n",
       "<table border=\"1\" class=\"dataframe\">\n",
       "  <thead>\n",
       "    <tr style=\"text-align: right;\">\n",
       "      <th></th>\n",
       "      <th>id</th>\n",
       "      <th>track_name</th>\n",
       "      <th>track_popularity</th>\n",
       "      <th>duration_ms</th>\n",
       "      <th>explicit</th>\n",
       "      <th>artists</th>\n",
       "      <th>id_artists</th>\n",
       "      <th>release_date</th>\n",
       "      <th>danceability</th>\n",
       "      <th>energy</th>\n",
       "      <th>...</th>\n",
       "      <th>acousticness</th>\n",
       "      <th>instrumentalness</th>\n",
       "      <th>liveness</th>\n",
       "      <th>valence</th>\n",
       "      <th>tempo</th>\n",
       "      <th>time_signature</th>\n",
       "      <th>Unnamed: 0</th>\n",
       "      <th>followers</th>\n",
       "      <th>artists_name</th>\n",
       "      <th>artists_popularity</th>\n",
       "    </tr>\n",
       "  </thead>\n",
       "  <tbody>\n",
       "    <tr>\n",
       "      <th>0</th>\n",
       "      <td>35iwgR4jXetI318WEWsa1Q</td>\n",
       "      <td>Carve</td>\n",
       "      <td>6</td>\n",
       "      <td>126903</td>\n",
       "      <td>0</td>\n",
       "      <td>['Uli']</td>\n",
       "      <td>45tIt06XoI0Iio4LBEVpls</td>\n",
       "      <td>1922-02-22</td>\n",
       "      <td>0.65</td>\n",
       "      <td>0.45</td>\n",
       "      <td>...</td>\n",
       "      <td>0.67</td>\n",
       "      <td>0.74</td>\n",
       "      <td>0.15</td>\n",
       "      <td>0.13</td>\n",
       "      <td>104.85</td>\n",
       "      <td>3</td>\n",
       "      <td>129763.00</td>\n",
       "      <td>91.00</td>\n",
       "      <td>Uli</td>\n",
       "      <td>4.00</td>\n",
       "    </tr>\n",
       "    <tr>\n",
       "      <th>1</th>\n",
       "      <td>021ht4sdgPcrDgSk7JTbKY</td>\n",
       "      <td>Capítulo 2.16 - Banquero Anarquista</td>\n",
       "      <td>0</td>\n",
       "      <td>98200</td>\n",
       "      <td>0</td>\n",
       "      <td>['Fernando Pessoa']</td>\n",
       "      <td>14jtPCOoNZwquk5wd9DxrY</td>\n",
       "      <td>1922-06-01</td>\n",
       "      <td>0.69</td>\n",
       "      <td>0.26</td>\n",
       "      <td>...</td>\n",
       "      <td>0.80</td>\n",
       "      <td>0.00</td>\n",
       "      <td>0.15</td>\n",
       "      <td>0.66</td>\n",
       "      <td>102.01</td>\n",
       "      <td>1</td>\n",
       "      <td>129760.00</td>\n",
       "      <td>3.00</td>\n",
       "      <td>Fernando Pessoa</td>\n",
       "      <td>0.00</td>\n",
       "    </tr>\n",
       "    <tr>\n",
       "      <th>2</th>\n",
       "      <td>07A5yehtSnoedViJAZkNnc</td>\n",
       "      <td>Vivo para Quererte - Remasterizado</td>\n",
       "      <td>0</td>\n",
       "      <td>181640</td>\n",
       "      <td>0</td>\n",
       "      <td>['Ignacio Corsini']</td>\n",
       "      <td>5LiOoJbxVSAMkBS2fUm3X2</td>\n",
       "      <td>1922-03-21</td>\n",
       "      <td>0.43</td>\n",
       "      <td>0.18</td>\n",
       "      <td>...</td>\n",
       "      <td>0.99</td>\n",
       "      <td>0.02</td>\n",
       "      <td>0.21</td>\n",
       "      <td>0.46</td>\n",
       "      <td>130.42</td>\n",
       "      <td>5</td>\n",
       "      <td>133256.00</td>\n",
       "      <td>3528.00</td>\n",
       "      <td>Ignacio Corsini</td>\n",
       "      <td>23.00</td>\n",
       "    </tr>\n",
       "    <tr>\n",
       "      <th>3</th>\n",
       "      <td>08FmqUhxtyLTn6pAh6bk45</td>\n",
       "      <td>El Prisionero - Remasterizado</td>\n",
       "      <td>0</td>\n",
       "      <td>176907</td>\n",
       "      <td>0</td>\n",
       "      <td>['Ignacio Corsini']</td>\n",
       "      <td>5LiOoJbxVSAMkBS2fUm3X2</td>\n",
       "      <td>1922-03-21</td>\n",
       "      <td>0.32</td>\n",
       "      <td>0.09</td>\n",
       "      <td>...</td>\n",
       "      <td>0.99</td>\n",
       "      <td>0.92</td>\n",
       "      <td>0.10</td>\n",
       "      <td>0.40</td>\n",
       "      <td>169.98</td>\n",
       "      <td>3</td>\n",
       "      <td>133256.00</td>\n",
       "      <td>3528.00</td>\n",
       "      <td>Ignacio Corsini</td>\n",
       "      <td>23.00</td>\n",
       "    </tr>\n",
       "    <tr>\n",
       "      <th>4</th>\n",
       "      <td>08y9GfoqCWfOGsKdwojr5e</td>\n",
       "      <td>Lady of the Evening</td>\n",
       "      <td>0</td>\n",
       "      <td>163080</td>\n",
       "      <td>0</td>\n",
       "      <td>['Dick Haymes']</td>\n",
       "      <td>3BiJGZsyX9sJchTqcSA7Su</td>\n",
       "      <td>1922</td>\n",
       "      <td>0.40</td>\n",
       "      <td>0.16</td>\n",
       "      <td>...</td>\n",
       "      <td>0.99</td>\n",
       "      <td>0.13</td>\n",
       "      <td>0.31</td>\n",
       "      <td>0.20</td>\n",
       "      <td>103.22</td>\n",
       "      <td>4</td>\n",
       "      <td>137360.00</td>\n",
       "      <td>11327.00</td>\n",
       "      <td>Dick Haymes</td>\n",
       "      <td>35.00</td>\n",
       "    </tr>\n",
       "    <tr>\n",
       "      <th>5</th>\n",
       "      <td>0BRXJHRNGQ3W4v9frnSfhu</td>\n",
       "      <td>Ave Maria</td>\n",
       "      <td>0</td>\n",
       "      <td>178933</td>\n",
       "      <td>0</td>\n",
       "      <td>['Dick Haymes']</td>\n",
       "      <td>3BiJGZsyX9sJchTqcSA7Su</td>\n",
       "      <td>1922</td>\n",
       "      <td>0.23</td>\n",
       "      <td>0.26</td>\n",
       "      <td>...</td>\n",
       "      <td>0.99</td>\n",
       "      <td>0.25</td>\n",
       "      <td>0.10</td>\n",
       "      <td>0.05</td>\n",
       "      <td>118.89</td>\n",
       "      <td>4</td>\n",
       "      <td>137360.00</td>\n",
       "      <td>11327.00</td>\n",
       "      <td>Dick Haymes</td>\n",
       "      <td>35.00</td>\n",
       "    </tr>\n",
       "    <tr>\n",
       "      <th>6</th>\n",
       "      <td>0Dd9ImXtAtGwsmsAD69KZT</td>\n",
       "      <td>La Butte Rouge</td>\n",
       "      <td>0</td>\n",
       "      <td>134467</td>\n",
       "      <td>0</td>\n",
       "      <td>['Francis Marty']</td>\n",
       "      <td>2nuMRGzeJ5jJEKlfS7rZ0W</td>\n",
       "      <td>1922</td>\n",
       "      <td>0.51</td>\n",
       "      <td>0.35</td>\n",
       "      <td>...</td>\n",
       "      <td>0.96</td>\n",
       "      <td>0.00</td>\n",
       "      <td>0.15</td>\n",
       "      <td>0.73</td>\n",
       "      <td>85.75</td>\n",
       "      <td>5</td>\n",
       "      <td>129761.00</td>\n",
       "      <td>15.00</td>\n",
       "      <td>Francis Marty</td>\n",
       "      <td>0.00</td>\n",
       "    </tr>\n",
       "    <tr>\n",
       "      <th>7</th>\n",
       "      <td>0IA0Hju8CAgYfV1hwhidBH</td>\n",
       "      <td>La Java</td>\n",
       "      <td>0</td>\n",
       "      <td>161427</td>\n",
       "      <td>0</td>\n",
       "      <td>['Mistinguett']</td>\n",
       "      <td>4AxgXfD7ISvJSTObqm4aIE</td>\n",
       "      <td>1922</td>\n",
       "      <td>0.56</td>\n",
       "      <td>0.18</td>\n",
       "      <td>...</td>\n",
       "      <td>0.99</td>\n",
       "      <td>0.00</td>\n",
       "      <td>0.33</td>\n",
       "      <td>0.65</td>\n",
       "      <td>133.09</td>\n",
       "      <td>3</td>\n",
       "      <td>135832.00</td>\n",
       "      <td>5078.00</td>\n",
       "      <td>Mistinguett</td>\n",
       "      <td>22.00</td>\n",
       "    </tr>\n",
       "    <tr>\n",
       "      <th>8</th>\n",
       "      <td>0IgI1UCz84pYeVetnl1lGP</td>\n",
       "      <td>Old Fashioned Girl</td>\n",
       "      <td>0</td>\n",
       "      <td>310073</td>\n",
       "      <td>0</td>\n",
       "      <td>['Greg Fieler']</td>\n",
       "      <td>5nWlsH5RDgFuRAiDeOFVmf</td>\n",
       "      <td>1922</td>\n",
       "      <td>0.49</td>\n",
       "      <td>0.47</td>\n",
       "      <td>...</td>\n",
       "      <td>0.62</td>\n",
       "      <td>0.01</td>\n",
       "      <td>0.11</td>\n",
       "      <td>0.54</td>\n",
       "      <td>139.95</td>\n",
       "      <td>4</td>\n",
       "      <td>129768.00</td>\n",
       "      <td>11.00</td>\n",
       "      <td>Greg Fieler</td>\n",
       "      <td>0.00</td>\n",
       "    </tr>\n",
       "    <tr>\n",
       "      <th>9</th>\n",
       "      <td>0JV4iqw2lSKJaHBQZ0e5zK</td>\n",
       "      <td>Martín Fierro - Remasterizado</td>\n",
       "      <td>0</td>\n",
       "      <td>181173</td>\n",
       "      <td>0</td>\n",
       "      <td>['Ignacio Corsini']</td>\n",
       "      <td>5LiOoJbxVSAMkBS2fUm3X2</td>\n",
       "      <td>1922-03-29</td>\n",
       "      <td>0.55</td>\n",
       "      <td>0.04</td>\n",
       "      <td>...</td>\n",
       "      <td>1.00</td>\n",
       "      <td>0.93</td>\n",
       "      <td>0.15</td>\n",
       "      <td>0.61</td>\n",
       "      <td>75.59</td>\n",
       "      <td>3</td>\n",
       "      <td>133256.00</td>\n",
       "      <td>3528.00</td>\n",
       "      <td>Ignacio Corsini</td>\n",
       "      <td>23.00</td>\n",
       "    </tr>\n",
       "  </tbody>\n",
       "</table>\n",
       "<p>10 rows × 24 columns</p>\n",
       "</div>"
      ],
      "text/plain": [
       "                       id                           track_name  \\\n",
       "0  35iwgR4jXetI318WEWsa1Q                                Carve   \n",
       "1  021ht4sdgPcrDgSk7JTbKY  Capítulo 2.16 - Banquero Anarquista   \n",
       "2  07A5yehtSnoedViJAZkNnc   Vivo para Quererte - Remasterizado   \n",
       "3  08FmqUhxtyLTn6pAh6bk45        El Prisionero - Remasterizado   \n",
       "4  08y9GfoqCWfOGsKdwojr5e                  Lady of the Evening   \n",
       "5  0BRXJHRNGQ3W4v9frnSfhu                            Ave Maria   \n",
       "6  0Dd9ImXtAtGwsmsAD69KZT                       La Butte Rouge   \n",
       "7  0IA0Hju8CAgYfV1hwhidBH                              La Java   \n",
       "8  0IgI1UCz84pYeVetnl1lGP                   Old Fashioned Girl   \n",
       "9  0JV4iqw2lSKJaHBQZ0e5zK        Martín Fierro - Remasterizado   \n",
       "\n",
       "   track_popularity  duration_ms  explicit              artists  \\\n",
       "0                 6       126903         0              ['Uli']   \n",
       "1                 0        98200         0  ['Fernando Pessoa']   \n",
       "2                 0       181640         0  ['Ignacio Corsini']   \n",
       "3                 0       176907         0  ['Ignacio Corsini']   \n",
       "4                 0       163080         0      ['Dick Haymes']   \n",
       "5                 0       178933         0      ['Dick Haymes']   \n",
       "6                 0       134467         0    ['Francis Marty']   \n",
       "7                 0       161427         0      ['Mistinguett']   \n",
       "8                 0       310073         0      ['Greg Fieler']   \n",
       "9                 0       181173         0  ['Ignacio Corsini']   \n",
       "\n",
       "               id_artists release_date  danceability  energy  ...  \\\n",
       "0  45tIt06XoI0Iio4LBEVpls   1922-02-22          0.65    0.45  ...   \n",
       "1  14jtPCOoNZwquk5wd9DxrY   1922-06-01          0.69    0.26  ...   \n",
       "2  5LiOoJbxVSAMkBS2fUm3X2   1922-03-21          0.43    0.18  ...   \n",
       "3  5LiOoJbxVSAMkBS2fUm3X2   1922-03-21          0.32    0.09  ...   \n",
       "4  3BiJGZsyX9sJchTqcSA7Su         1922          0.40    0.16  ...   \n",
       "5  3BiJGZsyX9sJchTqcSA7Su         1922          0.23    0.26  ...   \n",
       "6  2nuMRGzeJ5jJEKlfS7rZ0W         1922          0.51    0.35  ...   \n",
       "7  4AxgXfD7ISvJSTObqm4aIE         1922          0.56    0.18  ...   \n",
       "8  5nWlsH5RDgFuRAiDeOFVmf         1922          0.49    0.47  ...   \n",
       "9  5LiOoJbxVSAMkBS2fUm3X2   1922-03-29          0.55    0.04  ...   \n",
       "\n",
       "   acousticness  instrumentalness  liveness  valence  tempo  time_signature  \\\n",
       "0          0.67              0.74      0.15     0.13 104.85               3   \n",
       "1          0.80              0.00      0.15     0.66 102.01               1   \n",
       "2          0.99              0.02      0.21     0.46 130.42               5   \n",
       "3          0.99              0.92      0.10     0.40 169.98               3   \n",
       "4          0.99              0.13      0.31     0.20 103.22               4   \n",
       "5          0.99              0.25      0.10     0.05 118.89               4   \n",
       "6          0.96              0.00      0.15     0.73  85.75               5   \n",
       "7          0.99              0.00      0.33     0.65 133.09               3   \n",
       "8          0.62              0.01      0.11     0.54 139.95               4   \n",
       "9          1.00              0.93      0.15     0.61  75.59               3   \n",
       "\n",
       "   Unnamed: 0  followers     artists_name  artists_popularity  \n",
       "0   129763.00      91.00              Uli                4.00  \n",
       "1   129760.00       3.00  Fernando Pessoa                0.00  \n",
       "2   133256.00    3528.00  Ignacio Corsini               23.00  \n",
       "3   133256.00    3528.00  Ignacio Corsini               23.00  \n",
       "4   137360.00   11327.00      Dick Haymes               35.00  \n",
       "5   137360.00   11327.00      Dick Haymes               35.00  \n",
       "6   129761.00      15.00    Francis Marty                0.00  \n",
       "7   135832.00    5078.00      Mistinguett               22.00  \n",
       "8   129768.00      11.00      Greg Fieler                0.00  \n",
       "9   133256.00    3528.00  Ignacio Corsini               23.00  \n",
       "\n",
       "[10 rows x 24 columns]"
      ]
     },
     "execution_count": 20,
     "metadata": {},
     "output_type": "execute_result"
    }
   ],
   "source": [
    "# Merging the datasets on artist's id\n",
    "df_artists_tracks = tracks_data.merge(artists_data, how='left', left_on='id_artists', right_on='id_artists', validate='many_to_one')\n",
    "df_artists_tracks.head(10)"
   ]
  },
  {
   "cell_type": "code",
   "execution_count": 21,
   "id": "ff7c2176",
   "metadata": {},
   "outputs": [
    {
     "data": {
      "text/plain": [
       "id                        0\n",
       "track_name               71\n",
       "track_popularity          0\n",
       "duration_ms               0\n",
       "explicit                  0\n",
       "artists                   0\n",
       "id_artists                0\n",
       "release_date              0\n",
       "danceability              0\n",
       "energy                    0\n",
       "key                       0\n",
       "loudness                  0\n",
       "mode                      0\n",
       "speechiness               0\n",
       "acousticness              0\n",
       "instrumentalness          0\n",
       "liveness                  0\n",
       "valence                   0\n",
       "tempo                     0\n",
       "time_signature            0\n",
       "Unnamed: 0            12415\n",
       "followers             12416\n",
       "artists_name          12415\n",
       "artists_popularity    12415\n",
       "dtype: int64"
      ]
     },
     "execution_count": 21,
     "metadata": {},
     "output_type": "execute_result"
    }
   ],
   "source": [
    "df_artists_tracks.isna().sum()"
   ]
  },
  {
   "cell_type": "code",
   "execution_count": 22,
   "id": "b77f5a3a",
   "metadata": {},
   "outputs": [],
   "source": [
    "# Dropping irrelevant columns\n",
    "df_artists_tracks.drop(['id', 'id_artists', 'release_date', 'explicit','Unnamed: 0'], axis=1, inplace=True)"
   ]
  },
  {
   "cell_type": "code",
   "execution_count": 23,
   "id": "7c10d34e",
   "metadata": {},
   "outputs": [
    {
     "name": "stdout",
     "output_type": "stream",
     "text": [
      "<class 'pandas.core.frame.DataFrame'>\n",
      "RangeIndex: 586672 entries, 0 to 586671\n",
      "Data columns (total 19 columns):\n",
      " #   Column              Non-Null Count   Dtype  \n",
      "---  ------              --------------   -----  \n",
      " 0   track_name          586601 non-null  object \n",
      " 1   track_popularity    586672 non-null  int64  \n",
      " 2   duration_ms         586672 non-null  int64  \n",
      " 3   artists             586672 non-null  object \n",
      " 4   danceability        586672 non-null  float64\n",
      " 5   energy              586672 non-null  float64\n",
      " 6   key                 586672 non-null  int64  \n",
      " 7   loudness            586672 non-null  float64\n",
      " 8   mode                586672 non-null  int64  \n",
      " 9   speechiness         586672 non-null  float64\n",
      " 10  acousticness        586672 non-null  float64\n",
      " 11  instrumentalness    586672 non-null  float64\n",
      " 12  liveness            586672 non-null  float64\n",
      " 13  valence             586672 non-null  float64\n",
      " 14  tempo               586672 non-null  float64\n",
      " 15  time_signature      586672 non-null  int64  \n",
      " 16  followers           574256 non-null  float64\n",
      " 17  artists_name        574257 non-null  object \n",
      " 18  artists_popularity  574257 non-null  float64\n",
      "dtypes: float64(11), int64(5), object(3)\n",
      "memory usage: 85.0+ MB\n"
     ]
    }
   ],
   "source": [
    "df_artists_tracks.info()"
   ]
  },
  {
   "cell_type": "code",
   "execution_count": 24,
   "id": "417bfa07",
   "metadata": {},
   "outputs": [
    {
     "data": {
      "text/plain": [
       "2262"
      ]
     },
     "execution_count": 24,
     "metadata": {},
     "output_type": "execute_result"
    }
   ],
   "source": [
    "# Checking for duplicate row\n",
    "df_artists_tracks.duplicated().sum()"
   ]
  },
  {
   "cell_type": "code",
   "execution_count": 26,
   "id": "6ed26384",
   "metadata": {},
   "outputs": [],
   "source": [
    "# Dropping track_name is not highly relevant\n",
    "df_artists_tracks.drop(['track_name'], inplace=True, axis=1)"
   ]
  },
  {
   "cell_type": "code",
   "execution_count": 28,
   "id": "7347655f",
   "metadata": {},
   "outputs": [
    {
     "data": {
      "text/plain": [
       "track_popularity          0\n",
       "duration_ms               0\n",
       "artists                   0\n",
       "danceability              0\n",
       "energy                    0\n",
       "key                       0\n",
       "loudness                  0\n",
       "mode                      0\n",
       "speechiness               0\n",
       "acousticness              0\n",
       "instrumentalness          0\n",
       "liveness                  0\n",
       "valence                   0\n",
       "tempo                     0\n",
       "time_signature            0\n",
       "followers             12416\n",
       "artists_name          12415\n",
       "artists_popularity    12415\n",
       "dtype: int64"
      ]
     },
     "execution_count": 28,
     "metadata": {},
     "output_type": "execute_result"
    }
   ],
   "source": [
    "df_artists_tracks.isna().sum()"
   ]
  },
  {
   "cell_type": "code",
   "execution_count": 29,
   "id": "e05b9914",
   "metadata": {},
   "outputs": [],
   "source": [
    "# Removing the rows where artist_name is empty\n",
    "df_artists_tracks.dropna(subset=['artists_name'], inplace=True)"
   ]
  },
  {
   "cell_type": "code",
   "execution_count": 30,
   "id": "1824ab95",
   "metadata": {},
   "outputs": [
    {
     "data": {
      "text/plain": [
       "track_popularity      0\n",
       "duration_ms           0\n",
       "artists               0\n",
       "danceability          0\n",
       "energy                0\n",
       "key                   0\n",
       "loudness              0\n",
       "mode                  0\n",
       "speechiness           0\n",
       "acousticness          0\n",
       "instrumentalness      0\n",
       "liveness              0\n",
       "valence               0\n",
       "tempo                 0\n",
       "time_signature        0\n",
       "followers             1\n",
       "artists_name          0\n",
       "artists_popularity    0\n",
       "dtype: int64"
      ]
     },
     "execution_count": 30,
     "metadata": {},
     "output_type": "execute_result"
    }
   ],
   "source": [
    "df_artists_tracks.isna().sum()"
   ]
  },
  {
   "cell_type": "code",
   "execution_count": 31,
   "id": "ba6b3e23",
   "metadata": {},
   "outputs": [],
   "source": [
    "df_artists_tracks.dropna(subset=['followers'], inplace=True)"
   ]
  },
  {
   "cell_type": "code",
   "execution_count": 35,
   "id": "34753398",
   "metadata": {},
   "outputs": [],
   "source": [
    "df_artists_tracks.drop(['artists'], inplace=True, axis=1)"
   ]
  },
  {
   "cell_type": "code",
   "execution_count": 36,
   "id": "29ac3b92",
   "metadata": {},
   "outputs": [
    {
     "data": {
      "text/plain": [
       "track_popularity      0\n",
       "duration_ms           0\n",
       "danceability          0\n",
       "energy                0\n",
       "key                   0\n",
       "loudness              0\n",
       "mode                  0\n",
       "speechiness           0\n",
       "acousticness          0\n",
       "instrumentalness      0\n",
       "liveness              0\n",
       "valence               0\n",
       "tempo                 0\n",
       "time_signature        0\n",
       "followers             0\n",
       "artists_name          0\n",
       "artists_popularity    0\n",
       "dtype: int64"
      ]
     },
     "execution_count": 36,
     "metadata": {},
     "output_type": "execute_result"
    }
   ],
   "source": [
    "df_artists_tracks.isna().sum()"
   ]
  },
  {
   "cell_type": "code",
   "execution_count": 37,
   "id": "6b6f81a8",
   "metadata": {},
   "outputs": [
    {
     "data": {
      "text/plain": [
       "<Axes: >"
      ]
     },
     "execution_count": 37,
     "metadata": {},
     "output_type": "execute_result"
    },
    {
     "data": {
      "image/png": "[encoded data removed]",
      "text/plain": [
       "<Figure size 640x480 with 1 Axes>"
      ]
     },
     "metadata": {},
     "output_type": "display_data"
    }
   ],
   "source": [
    "# Not data is clead, we will now check for outliers\n",
    "# Using box plot for finding outliers\n",
    "sns.boxplot(df_artists_tracks['track_popularity']) #target variable"
   ]
  },
  {
   "cell_type": "code",
   "execution_count": 38,
   "id": "5b67739b",
   "metadata": {},
   "outputs": [
    {
     "data": {
      "text/plain": [
       "<Axes: xlabel='danceability'>"
      ]
     },
     "execution_count": 38,
     "metadata": {},
     "output_type": "execute_result"
    },
    {
     "data": {
      "image/png": "[encoded data removed]",
      "text/plain": [
       "<Figure size 640x480 with 1 Axes>"
      ]
     },
     "metadata": {},
     "output_type": "display_data"
    }
   ],
   "source": [
    "sns.boxplot(x=df_artists_tracks['danceability'])"
   ]
  },
  {
   "cell_type": "code",
   "execution_count": 39,
   "id": "96250ec3",
   "metadata": {},
   "outputs": [
    {
     "data": {
      "text/plain": [
       "(0.10499999999999993, 1.0330000000000001)"
      ]
     },
     "execution_count": 39,
     "metadata": {},
     "output_type": "execute_result"
    }
   ],
   "source": [
    "# removing outliers from danceability\n",
    "q1 = df_artists_tracks['danceability'].quantile(0.25)\n",
    "q3 = df_artists_tracks['danceability'].quantile(0.75)\n",
    "iqr = q3 - q1\n",
    "\n",
    "\n",
    "lower_bound = q1 - (1.5 * iqr)\n",
    "upper_bound = q3 + (1.5 * iqr)\n",
    "lower_bound, upper_bound"
   ]
  },
  {
   "cell_type": "code",
   "execution_count": 42,
   "id": "a993fad6",
   "metadata": {},
   "outputs": [],
   "source": [
    "lower_bound = max(lower_bound, 0)\n",
    "df_artists_tracks = df_artists_tracks[(df_artists_tracks['danceability'] >= lower_bound) & (df_artists_tracks['danceability'] <= upper_bound)]"
   ]
  },
  {
   "cell_type": "code",
   "execution_count": 43,
   "id": "0c71d0b7",
   "metadata": {},
   "outputs": [
    {
     "data": {
      "text/plain": [
       "<Axes: xlabel='danceability'>"
      ]
     },
     "execution_count": 43,
     "metadata": {},
     "output_type": "execute_result"
    },
    {
     "data": {
      "image/png": "[encoded data removed]",
      "text/plain": [
       "<Figure size 640x480 with 1 Axes>"
      ]
     },
     "metadata": {},
     "output_type": "display_data"
    }
   ],
   "source": [
    "sns.boxplot(x=df_artists_tracks['danceability'])"
   ]
  },
  {
   "cell_type": "code",
   "execution_count": 44,
   "id": "0ff27986",
   "metadata": {},
   "outputs": [
    {
     "data": {
      "text/plain": [
       "<Axes: xlabel='loudness'>"
      ]
     },
     "execution_count": 44,
     "metadata": {},
     "output_type": "execute_result"
    },
    {
     "data": {
      "image/png": "[encoded data removed]",
      "text/plain": [
       "<Figure size 640x480 with 1 Axes>"
      ]
     },
     "metadata": {},
     "output_type": "display_data"
    }
   ],
   "source": [
    "sns.boxplot(x=df_artists_tracks['loudness'])"
   ]
  },
  {
   "cell_type": "code",
   "execution_count": 45,
   "id": "7fdb8b53",
   "metadata": {},
   "outputs": [
    {
     "data": {
      "text/plain": [
       "(-22.430500000000002, 3.1095000000000006)"
      ]
     },
     "execution_count": 45,
     "metadata": {},
     "output_type": "execute_result"
    }
   ],
   "source": [
    "# removing outliers from loudness\n",
    "q1 = df_artists_tracks['loudness'].quantile(0.25)\n",
    "q3 = df_artists_tracks['loudness'].quantile(0.75)\n",
    "iqr = q3 - q1\n",
    "\n",
    "\n",
    "lower_bound = q1 - (1.5 * iqr)\n",
    "upper_bound = q3 + (1.5 * iqr)\n",
    "lower_bound, upper_bound"
   ]
  },
  {
   "cell_type": "code",
   "execution_count": 46,
   "id": "828afd86",
   "metadata": {},
   "outputs": [
    {
     "data": {
      "image/png": "[encoded data removed]",
      "text/plain": [
       "<Figure size 800x500 with 1 Axes>"
      ]
     },
     "metadata": {},
     "output_type": "display_data"
    }
   ],
   "source": [
    "#checking data is sckewed or not\n",
    "plt.figure(figsize=(8, 5))\n",
    "sns.histplot(df_artists_tracks['loudness'], bins=30, kde=True, color='blue')\n",
    "plt.title('Histogram of column_name')\n",
    "plt.show()"
   ]
  },
  {
   "cell_type": "code",
   "execution_count": null,
   "id": "d2bee47a",
   "metadata": {},
   "outputs": [],
   "source": [
    "df_merged = df_merged[(df_merged['loudness'] >= lower_bound) & (df_merged['loudness'] <= upper_bound)]"
   ]
  }
 ],
 "metadata": {
  "kernelspec": {
   "display_name": "Python 3 (ipykernel)",
   "language": "python",
   "name": "python3"
  },
  "language_info": {
   "codemirror_mode": {
    "name": "ipython",
    "version": 3
   },
   "file_extension": ".py",
   "mimetype": "text/x-python",
   "name": "python",
   "nbconvert_exporter": "python",
   "pygments_lexer": "ipython3",
   "version": "3.11.5"
  }
 },
 "nbformat": 4,
 "nbformat_minor": 5
}
